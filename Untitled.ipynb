{
 "cells": [
  {
   "cell_type": "code",
   "execution_count": 246,
   "id": "451a853c-0efa-40a5-ac28-40c9e7252405",
   "metadata": {},
   "outputs": [
    {
     "data": {
      "text/plain": [
       "1"
      ]
     },
     "execution_count": 246,
     "metadata": {},
     "output_type": "execute_result"
    }
   ],
   "source": [
    "jax.random.randint(jax.random.PRNGKey(43), shape=(1,), minval=0, maxval=1).ndim"
   ]
  },
  {
   "cell_type": "code",
   "execution_count": 205,
   "id": "f01cb0b7-afb2-4c63-996e-a96341d6eb55",
   "metadata": {},
   "outputs": [],
   "source": [
    "import jax\n",
    "import jax.numpy as jnp"
   ]
  },
  {
   "cell_type": "code",
   "execution_count": 250,
   "id": "3d2ed748-1d05-4a58-807d-1759487f27ff",
   "metadata": {},
   "outputs": [
    {
     "data": {
      "text/plain": [
       "DeviceArray(1., dtype=float32)"
      ]
     },
     "execution_count": 250,
     "metadata": {},
     "output_type": "execute_result"
    }
   ],
   "source": [
    "key = jax.random.PRNGKey(433)\n",
    "key[1]/key[1]"
   ]
  },
  {
   "cell_type": "code",
   "execution_count": 208,
   "id": "19d4fdca-6adc-4b8c-80c4-5504079d3b3e",
   "metadata": {},
   "outputs": [
    {
     "ename": "NameError",
     "evalue": "name 'img' is not defined",
     "output_type": "error",
     "traceback": [
      "\u001b[0;31m---------------------------------------------------------------------------\u001b[0m",
      "\u001b[0;31mNameError\u001b[0m                                 Traceback (most recent call last)",
      "Input \u001b[0;32mIn [208]\u001b[0m, in \u001b[0;36m<cell line: 5>\u001b[0;34m()\u001b[0m\n\u001b[1;32m      2\u001b[0m W, F, m_F, T, p, m_T \u001b[38;5;241m=\u001b[39m \u001b[38;5;241m48\u001b[39m, \u001b[38;5;241m6\u001b[39m, \u001b[38;5;241m1\u001b[39m, \u001b[38;5;241m300\u001b[39m, \u001b[38;5;241m1.0\u001b[39m, \u001b[38;5;241m1\u001b[39m\n\u001b[1;32m      4\u001b[0m f \u001b[38;5;241m=\u001b[39m jax\u001b[38;5;241m.\u001b[39mrandom\u001b[38;5;241m.\u001b[39mrandint(key, shape\u001b[38;5;241m=\u001b[39m(\u001b[38;5;241m1\u001b[39m,), minval\u001b[38;5;241m=\u001b[39m\u001b[38;5;241m0\u001b[39m, maxval\u001b[38;5;241m=\u001b[39mF) \u001b[38;5;66;03m# [0, F)\u001b[39;00m\n\u001b[0;32m----> 5\u001b[0m f0 \u001b[38;5;241m=\u001b[39m jax\u001b[38;5;241m.\u001b[39mrandom\u001b[38;5;241m.\u001b[39mrandint(key, shape\u001b[38;5;241m=\u001b[39m(\u001b[38;5;241m1\u001b[39m,), minval\u001b[38;5;241m=\u001b[39m\u001b[38;5;241m0\u001b[39m, maxval\u001b[38;5;241m=\u001b[39m \u001b[43mimg\u001b[49m\u001b[38;5;241m.\u001b[39mshape[\u001b[38;5;241m0\u001b[39m]\u001b[38;5;241m-\u001b[39m f) \u001b[38;5;66;03m# [0, v - f)\u001b[39;00m\n\u001b[1;32m      8\u001b[0m t \u001b[38;5;241m=\u001b[39m jax\u001b[38;5;241m.\u001b[39mrandom\u001b[38;5;241m.\u001b[39muniform(key,  shape\u001b[38;5;241m=\u001b[39m(\u001b[38;5;241m1\u001b[39m,), minval\u001b[38;5;241m=\u001b[39m\u001b[38;5;241m0\u001b[39m, maxval\u001b[38;5;241m=\u001b[39mT)\u001b[38;5;241m.\u001b[39mastype(\u001b[38;5;28mint\u001b[39m) \u001b[38;5;66;03m# [0, T)\u001b[39;00m\n\u001b[1;32m      9\u001b[0m t0 \u001b[38;5;241m=\u001b[39m jax\u001b[38;5;241m.\u001b[39mrandom\u001b[38;5;241m.\u001b[39mrandint(key, shape\u001b[38;5;241m=\u001b[39m(\u001b[38;5;241m1\u001b[39m,), minval\u001b[38;5;241m=\u001b[39m\u001b[38;5;241m0\u001b[39m, maxval\u001b[38;5;241m=\u001b[39m img\u001b[38;5;241m.\u001b[39mshape[\u001b[38;5;241m1\u001b[39m] \u001b[38;5;241m-\u001b[39m t)\n",
      "\u001b[0;31mNameError\u001b[0m: name 'img' is not defined"
     ]
    }
   ],
   "source": [
    "key = jax.random.PRNGKey(43)\n",
    "W, F, m_F, T, p, m_T = 48, 6, 1, 300, 1.0, 1\n",
    "\n",
    "f = jax.random.randint(key, shape=(1,), minval=0, maxval=F) # [0, F)\n",
    "f0 = jax.random.randint(key, shape=(1,), minval=0, maxval= img.shape[0]- f) # [0, v - f)\n",
    "\n",
    "\n",
    "t = jax.random.uniform(key,  shape=(1,), minval=0, maxval=T).astype(int) # [0, T)\n",
    "t0 = jax.random.randint(key, shape=(1,), minval=0, maxval= img.shape[1] - t) # [0, tau - t)"
   ]
  },
  {
   "cell_type": "code",
   "execution_count": 258,
   "id": "ec6ada27-ac63-4f7e-aa02-91a5bf6f6cad",
   "metadata": {},
   "outputs": [],
   "source": [
    "import numpy as np\n",
    "np.array()"
   ]
  },
  {
   "cell_type": "code",
   "execution_count": 303,
   "id": "38e0c337-22d3-484d-839d-2bb2bb51a41d",
   "metadata": {},
   "outputs": [],
   "source": [
    "@jax.jit\n",
    "def spec_mask(rng, img):    \n",
    "    W, F, m_F, T, p, m_T = 48, 6, 1, 300, 1.0, 1\n",
    "    v = img.shape[1]\n",
    "    tau = img.shape[2]\n",
    "    \n",
    "    for i in range(m_F):\n",
    "        rng, key = jax.random.split(rng)\n",
    "        f = jax.random.uniform(key, shape=(1,), minval=0, maxval=F).astype(int) # [0, F)\n",
    "        f0 = jax.random.randint(key, shape=(1,), minval=0, maxval= v - f) # [0, v - f)\n",
    "        print(f)\n",
    "        print(f0)\n",
    "        img = img.at[:, f0[0]:f0[0]+ f, :, :].set(0)\n",
    "\n",
    "    for i in range(m_T):\n",
    "        rng, key = jax.random.split(rng)\n",
    "        t = jax.random.uniform(key,  shape=(1,), minval=0, maxval=self.T).astype(int) # [0, T)\n",
    "        t0 = jax.random.randint(key, shape=(1,), minval=0, maxval=tau - t) # [0, tau - t)\n",
    "        print(t)\n",
    "        print(t0)\n",
    "        img = img.at[:, :, t0[0]:t0[0] + t, :].set(0)\n",
    "    return img"
   ]
  },
  {
   "cell_type": "code",
   "execution_count": 304,
   "id": "e706acb8-abf4-4462-800c-7c3e63bf9a5c",
   "metadata": {},
   "outputs": [
    {
     "name": "stdout",
     "output_type": "stream",
     "text": [
      "Traced<ShapedArray(int32[1])>with<DynamicJaxprTrace(level=0/1)>\n",
      "Traced<ShapedArray(int32[1])>with<DynamicJaxprTrace(level=0/1)>\n"
     ]
    },
    {
     "ename": "IndexError",
     "evalue": "Array slice indices must have static start/stop/step to be used with NumPy indexing syntax. Found slice(Traced<ShapedArray(int32[])>with<DynamicJaxprTrace(level=0/1)>, Traced<ShapedArray(int32[1])>with<DynamicJaxprTrace(level=0/1)>, None). To index a statically sized array at a dynamic position, try lax.dynamic_slice/dynamic_update_slice (JAX does not support dynamically sized arrays within JIT compiled functions).",
     "output_type": "error",
     "traceback": [
      "\u001b[0;31m---------------------------------------------------------------------------\u001b[0m",
      "\u001b[0;31mIndexError\u001b[0m                                Traceback (most recent call last)",
      "Input \u001b[0;32mIn [304]\u001b[0m, in \u001b[0;36m<cell line: 1>\u001b[0;34m()\u001b[0m\n\u001b[0;32m----> 1\u001b[0m \u001b[43mspec_mask\u001b[49m\u001b[43m(\u001b[49m\u001b[43mjax\u001b[49m\u001b[38;5;241;43m.\u001b[39;49m\u001b[43mrandom\u001b[49m\u001b[38;5;241;43m.\u001b[39;49m\u001b[43mPRNGKey\u001b[49m\u001b[43m(\u001b[49m\u001b[38;5;241;43m20\u001b[39;49m\u001b[43m)\u001b[49m\u001b[43m,\u001b[49m\u001b[43m \u001b[49m\u001b[43ma\u001b[49m\u001b[43m)\u001b[49m\n",
      "    \u001b[0;31m[... skipping hidden 14 frame]\u001b[0m\n",
      "Input \u001b[0;32mIn [303]\u001b[0m, in \u001b[0;36mspec_mask\u001b[0;34m(rng, img)\u001b[0m\n\u001b[1;32m     11\u001b[0m     \u001b[38;5;28mprint\u001b[39m(f)\n\u001b[1;32m     12\u001b[0m     \u001b[38;5;28mprint\u001b[39m(f0)\n\u001b[0;32m---> 13\u001b[0m     img \u001b[38;5;241m=\u001b[39m \u001b[43mimg\u001b[49m\u001b[38;5;241;43m.\u001b[39;49m\u001b[43mat\u001b[49m\u001b[43m[\u001b[49m\u001b[43m:\u001b[49m\u001b[43m,\u001b[49m\u001b[43m \u001b[49m\u001b[43mf0\u001b[49m\u001b[43m[\u001b[49m\u001b[38;5;241;43m0\u001b[39;49m\u001b[43m]\u001b[49m\u001b[43m:\u001b[49m\u001b[43mf0\u001b[49m\u001b[43m[\u001b[49m\u001b[38;5;241;43m0\u001b[39;49m\u001b[43m]\u001b[49m\u001b[38;5;241;43m+\u001b[39;49m\u001b[43m \u001b[49m\u001b[43mf\u001b[49m\u001b[43m,\u001b[49m\u001b[43m \u001b[49m\u001b[43m:\u001b[49m\u001b[43m,\u001b[49m\u001b[43m \u001b[49m\u001b[43m:\u001b[49m\u001b[43m]\u001b[49m\u001b[38;5;241;43m.\u001b[39;49m\u001b[43mset\u001b[49m\u001b[43m(\u001b[49m\u001b[38;5;241;43m0\u001b[39;49m\u001b[43m)\u001b[49m\n\u001b[1;32m     15\u001b[0m \u001b[38;5;28;01mfor\u001b[39;00m i \u001b[38;5;129;01min\u001b[39;00m \u001b[38;5;28mrange\u001b[39m(m_T):\n\u001b[1;32m     16\u001b[0m     rng, key \u001b[38;5;241m=\u001b[39m jax\u001b[38;5;241m.\u001b[39mrandom\u001b[38;5;241m.\u001b[39msplit(rng)\n",
      "File \u001b[0;32m/usr/local/lib/python3.8/dist-packages/jax/_src/numpy/lax_numpy.py:4931\u001b[0m, in \u001b[0;36m_IndexUpdateRef.set\u001b[0;34m(self, values, indices_are_sorted, unique_indices, mode)\u001b[0m\n\u001b[1;32m   4922\u001b[0m \u001b[38;5;28;01mdef\u001b[39;00m \u001b[38;5;21mset\u001b[39m(\u001b[38;5;28mself\u001b[39m, values, indices_are_sorted\u001b[38;5;241m=\u001b[39m\u001b[38;5;28;01mFalse\u001b[39;00m, unique_indices\u001b[38;5;241m=\u001b[39m\u001b[38;5;28;01mFalse\u001b[39;00m,\n\u001b[1;32m   4923\u001b[0m         mode\u001b[38;5;241m=\u001b[39m\u001b[38;5;28;01mNone\u001b[39;00m):\n\u001b[1;32m   4924\u001b[0m   \u001b[38;5;124;03m\"\"\"Pure equivalent of ``x[idx] = y``.\u001b[39;00m\n\u001b[1;32m   4925\u001b[0m \n\u001b[1;32m   4926\u001b[0m \u001b[38;5;124;03m  Returns the value of ``x`` that would result from the NumPy-style\u001b[39;00m\n\u001b[0;32m   (...)\u001b[0m\n\u001b[1;32m   4929\u001b[0m \u001b[38;5;124;03m  See :mod:`jax.ops` for details.\u001b[39;00m\n\u001b[1;32m   4930\u001b[0m \u001b[38;5;124;03m  \"\"\"\u001b[39;00m\n\u001b[0;32m-> 4931\u001b[0m   \u001b[38;5;28;01mreturn\u001b[39;00m \u001b[43mscatter\u001b[49m\u001b[38;5;241;43m.\u001b[39;49m\u001b[43m_scatter_update\u001b[49m\u001b[43m(\u001b[49m\u001b[38;5;28;43mself\u001b[39;49m\u001b[38;5;241;43m.\u001b[39;49m\u001b[43marray\u001b[49m\u001b[43m,\u001b[49m\u001b[43m \u001b[49m\u001b[38;5;28;43mself\u001b[39;49m\u001b[38;5;241;43m.\u001b[39;49m\u001b[43mindex\u001b[49m\u001b[43m,\u001b[49m\u001b[43m \u001b[49m\u001b[43mvalues\u001b[49m\u001b[43m,\u001b[49m\u001b[43m \u001b[49m\u001b[43mlax\u001b[49m\u001b[38;5;241;43m.\u001b[39;49m\u001b[43mscatter\u001b[49m\u001b[43m,\u001b[49m\n\u001b[1;32m   4932\u001b[0m \u001b[43m                                 \u001b[49m\u001b[43mindices_are_sorted\u001b[49m\u001b[38;5;241;43m=\u001b[39;49m\u001b[43mindices_are_sorted\u001b[49m\u001b[43m,\u001b[49m\n\u001b[1;32m   4933\u001b[0m \u001b[43m                                 \u001b[49m\u001b[43munique_indices\u001b[49m\u001b[38;5;241;43m=\u001b[39;49m\u001b[43munique_indices\u001b[49m\u001b[43m,\u001b[49m\u001b[43m \u001b[49m\u001b[43mmode\u001b[49m\u001b[38;5;241;43m=\u001b[39;49m\u001b[43mmode\u001b[49m\u001b[43m)\u001b[49m\n",
      "File \u001b[0;32m/usr/local/lib/python3.8/dist-packages/jax/_src/ops/scatter.py:71\u001b[0m, in \u001b[0;36m_scatter_update\u001b[0;34m(x, idx, y, scatter_op, indices_are_sorted, unique_indices, mode, normalize_indices)\u001b[0m\n\u001b[1;32m     68\u001b[0m \u001b[38;5;66;03m# XLA gathers and scatters are very similar in structure; the scatter logic\u001b[39;00m\n\u001b[1;32m     69\u001b[0m \u001b[38;5;66;03m# is more or less a transpose of the gather equivalent.\u001b[39;00m\n\u001b[1;32m     70\u001b[0m treedef, static_idx, dynamic_idx \u001b[38;5;241m=\u001b[39m jnp\u001b[38;5;241m.\u001b[39m_split_index_for_jit(idx, x\u001b[38;5;241m.\u001b[39mshape)\n\u001b[0;32m---> 71\u001b[0m \u001b[38;5;28;01mreturn\u001b[39;00m \u001b[43m_scatter_impl\u001b[49m\u001b[43m(\u001b[49m\u001b[43mx\u001b[49m\u001b[43m,\u001b[49m\u001b[43m \u001b[49m\u001b[43my\u001b[49m\u001b[43m,\u001b[49m\u001b[43m \u001b[49m\u001b[43mscatter_op\u001b[49m\u001b[43m,\u001b[49m\u001b[43m \u001b[49m\u001b[43mtreedef\u001b[49m\u001b[43m,\u001b[49m\u001b[43m \u001b[49m\u001b[43mstatic_idx\u001b[49m\u001b[43m,\u001b[49m\u001b[43m \u001b[49m\u001b[43mdynamic_idx\u001b[49m\u001b[43m,\u001b[49m\n\u001b[1;32m     72\u001b[0m \u001b[43m                     \u001b[49m\u001b[43mindices_are_sorted\u001b[49m\u001b[43m,\u001b[49m\u001b[43m \u001b[49m\u001b[43munique_indices\u001b[49m\u001b[43m,\u001b[49m\u001b[43m \u001b[49m\u001b[43mmode\u001b[49m\u001b[43m,\u001b[49m\n\u001b[1;32m     73\u001b[0m \u001b[43m                     \u001b[49m\u001b[43mnormalize_indices\u001b[49m\u001b[43m)\u001b[49m\n",
      "File \u001b[0;32m/usr/local/lib/python3.8/dist-packages/jax/_src/ops/scatter.py:93\u001b[0m, in \u001b[0;36m_scatter_impl\u001b[0;34m(x, y, scatter_op, treedef, static_idx, dynamic_idx, indices_are_sorted, unique_indices, mode, normalize_indices)\u001b[0m\n\u001b[1;32m     87\u001b[0m   warnings\u001b[38;5;241m.\u001b[39mwarn(\u001b[38;5;124m\"\u001b[39m\u001b[38;5;124mscatter inputs have incompatible types: cannot safely cast \u001b[39m\u001b[38;5;124m\"\u001b[39m\n\u001b[1;32m     88\u001b[0m                 \u001b[38;5;124mf\u001b[39m\u001b[38;5;124m\"\u001b[39m\u001b[38;5;124mvalue from dtype=\u001b[39m\u001b[38;5;132;01m{\u001b[39;00mlax\u001b[38;5;241m.\u001b[39mdtype(y)\u001b[38;5;132;01m}\u001b[39;00m\u001b[38;5;124m to dtype=\u001b[39m\u001b[38;5;132;01m{\u001b[39;00mlax\u001b[38;5;241m.\u001b[39mdtype(x)\u001b[38;5;132;01m}\u001b[39;00m\u001b[38;5;124m. \u001b[39m\u001b[38;5;124m\"\u001b[39m\n\u001b[1;32m     89\u001b[0m                 \u001b[38;5;124m\"\u001b[39m\u001b[38;5;124mIn future JAX releases this will result in an error.\u001b[39m\u001b[38;5;124m\"\u001b[39m,\n\u001b[1;32m     90\u001b[0m                 \u001b[38;5;167;01mFutureWarning\u001b[39;00m)\n\u001b[1;32m     92\u001b[0m idx \u001b[38;5;241m=\u001b[39m jnp\u001b[38;5;241m.\u001b[39m_merge_static_and_dynamic_indices(treedef, static_idx, dynamic_idx)\n\u001b[0;32m---> 93\u001b[0m indexer \u001b[38;5;241m=\u001b[39m \u001b[43mjnp\u001b[49m\u001b[38;5;241;43m.\u001b[39;49m\u001b[43m_index_to_gather\u001b[49m\u001b[43m(\u001b[49m\u001b[43mjnp\u001b[49m\u001b[38;5;241;43m.\u001b[39;49m\u001b[43mshape\u001b[49m\u001b[43m(\u001b[49m\u001b[43mx\u001b[49m\u001b[43m)\u001b[49m\u001b[43m,\u001b[49m\u001b[43m \u001b[49m\u001b[43midx\u001b[49m\u001b[43m,\u001b[49m\n\u001b[1;32m     94\u001b[0m \u001b[43m                               \u001b[49m\u001b[43mnormalize_indices\u001b[49m\u001b[38;5;241;43m=\u001b[39;49m\u001b[43mnormalize_indices\u001b[49m\u001b[43m)\u001b[49m\n\u001b[1;32m     96\u001b[0m \u001b[38;5;66;03m# Avoid calling scatter if the slice shape is empty, both as a fast path and\u001b[39;00m\n\u001b[1;32m     97\u001b[0m \u001b[38;5;66;03m# to handle cases like zeros(0)[array([], int32)].\u001b[39;00m\n\u001b[1;32m     98\u001b[0m \u001b[38;5;28;01mif\u001b[39;00m core\u001b[38;5;241m.\u001b[39mis_empty_shape(indexer\u001b[38;5;241m.\u001b[39mslice_shape):\n",
      "File \u001b[0;32m/usr/local/lib/python3.8/dist-packages/jax/_src/numpy/lax_numpy.py:3867\u001b[0m, in \u001b[0;36m_index_to_gather\u001b[0;34m(x_shape, idx, normalize_indices)\u001b[0m\n\u001b[1;32m   3858\u001b[0m \u001b[38;5;28;01mif\u001b[39;00m \u001b[38;5;129;01mnot\u001b[39;00m _all(_is_slice_element_none_or_constant(elt)\n\u001b[1;32m   3859\u001b[0m             \u001b[38;5;28;01mfor\u001b[39;00m elt \u001b[38;5;129;01min\u001b[39;00m (start, stop, step)):\n\u001b[1;32m   3860\u001b[0m   msg \u001b[38;5;241m=\u001b[39m (\u001b[38;5;124m\"\u001b[39m\u001b[38;5;124mArray slice indices must have static start/stop/step to be used \u001b[39m\u001b[38;5;124m\"\u001b[39m\n\u001b[1;32m   3861\u001b[0m          \u001b[38;5;124m\"\u001b[39m\u001b[38;5;124mwith NumPy indexing syntax. \u001b[39m\u001b[38;5;124m\"\u001b[39m\n\u001b[1;32m   3862\u001b[0m          \u001b[38;5;124mf\u001b[39m\u001b[38;5;124m\"\u001b[39m\u001b[38;5;124mFound slice(\u001b[39m\u001b[38;5;132;01m{\u001b[39;00mstart\u001b[38;5;132;01m}\u001b[39;00m\u001b[38;5;124m, \u001b[39m\u001b[38;5;132;01m{\u001b[39;00mstop\u001b[38;5;132;01m}\u001b[39;00m\u001b[38;5;124m, \u001b[39m\u001b[38;5;132;01m{\u001b[39;00mstep\u001b[38;5;132;01m}\u001b[39;00m\u001b[38;5;124m). \u001b[39m\u001b[38;5;124m\"\u001b[39m\n\u001b[0;32m   (...)\u001b[0m\n\u001b[1;32m   3865\u001b[0m          \u001b[38;5;124m\"\u001b[39m\u001b[38;5;124mdynamic_update_slice (JAX does not support dynamically sized \u001b[39m\u001b[38;5;124m\"\u001b[39m\n\u001b[1;32m   3866\u001b[0m          \u001b[38;5;124m\"\u001b[39m\u001b[38;5;124marrays within JIT compiled functions).\u001b[39m\u001b[38;5;124m\"\u001b[39m)\n\u001b[0;32m-> 3867\u001b[0m   \u001b[38;5;28;01mraise\u001b[39;00m \u001b[38;5;167;01mIndexError\u001b[39;00m(msg)\n\u001b[1;32m   3868\u001b[0m \u001b[38;5;28;01mif\u001b[39;00m \u001b[38;5;129;01mnot\u001b[39;00m core\u001b[38;5;241m.\u001b[39mis_constant_dim(x_shape[x_axis]):\n\u001b[1;32m   3869\u001b[0m   msg \u001b[38;5;241m=\u001b[39m (\u001b[38;5;124m\"\u001b[39m\u001b[38;5;124mCannot use NumPy slice indexing on an array dimension whose \u001b[39m\u001b[38;5;124m\"\u001b[39m\n\u001b[1;32m   3870\u001b[0m          \u001b[38;5;124mf\u001b[39m\u001b[38;5;124m\"\u001b[39m\u001b[38;5;124msize is not statically known (\u001b[39m\u001b[38;5;132;01m{\u001b[39;00mx_shape[x_axis]\u001b[38;5;132;01m}\u001b[39;00m\u001b[38;5;124m). \u001b[39m\u001b[38;5;124m\"\u001b[39m\n\u001b[1;32m   3871\u001b[0m          \u001b[38;5;124m\"\u001b[39m\u001b[38;5;124mTry using lax.dynamic_slice/dynamic_update_slice\u001b[39m\u001b[38;5;124m\"\u001b[39m)\n",
      "\u001b[0;31mIndexError\u001b[0m: Array slice indices must have static start/stop/step to be used with NumPy indexing syntax. Found slice(Traced<ShapedArray(int32[])>with<DynamicJaxprTrace(level=0/1)>, Traced<ShapedArray(int32[1])>with<DynamicJaxprTrace(level=0/1)>, None). To index a statically sized array at a dynamic position, try lax.dynamic_slice/dynamic_update_slice (JAX does not support dynamically sized arrays within JIT compiled functions)."
     ]
    }
   ],
   "source": [
    "spec_mask(jax.random.PRNGKey(20), a)\n"
   ]
  },
  {
   "cell_type": "code",
   "execution_count": 351,
   "id": "23f1116e-db7e-48dd-b6cd-b6a01755f4b4",
   "metadata": {},
   "outputs": [],
   "source": [
    "def spec_mask(rng, img):\n",
    "    \n",
    "    W, F, m_F, T, p, m_T = 48, 6, 1, 300, 1.0, 1\n",
    "    v = img.shape[0] # no. of mel bins\n",
    "    tau = img.shape[1]\n",
    "    # apply m_F frequency masks to the mel spectrogram\n",
    "#     for i in range(m_F):\n",
    "#         rng, key = jax.random.split(rng)\n",
    "#         f = jax.random.randint(key, shape=(1,), minval=0, maxval=F) # [0, F)\n",
    "#         f0 = jax.random.randint(key, shape=(1,), minval=0, maxval= v - f) # [0, v - f)\n",
    "#         f = jnp.int32(f[0])\n",
    "#         print(f)\n",
    "#         b = jnp.zeros((4, img.shape[1], 1))\n",
    "#         img = jax.lax.dynamic_update_slice(img, b, (f0[0], 0, 1))\n",
    "        \n",
    "    for i in range(m_T):\n",
    "        rng, key = jax.random.split(rng)\n",
    "    \n",
    "        t = jax.random.uniform(key, shape=(1,), minval=0, maxval=T).astype(int) # [0, T)\n",
    "        print(t)\n",
    "        print(type(t[0]))\n",
    "        \n",
    "        t0 = jax.random.randint(key, shape=(1,), minval=0, maxval=tau - t) # [0, tau - t)\n",
    "        b = jnp.zeros((img.shape[0], t[0], 1))\n",
    "        img = jax.lax.dynamic_update_slice(img, b, (0, t0[0], 1))\n",
    "\n",
    "    return img"
   ]
  },
  {
   "cell_type": "code",
   "execution_count": 352,
   "id": "f04b409f-ae9c-4322-8d76-075357a7a5a5",
   "metadata": {},
   "outputs": [],
   "source": [
    "a = jnp.ones((16, 48, 1876, 1))"
   ]
  },
  {
   "cell_type": "code",
   "execution_count": 353,
   "id": "06b6f73f-c7cf-4a0c-adf1-8006c3ba7f47",
   "metadata": {},
   "outputs": [
    {
     "name": "stdout",
     "output_type": "stream",
     "text": [
      "[257]\n",
      "<class 'jaxlib.xla_extension.DeviceArray'>\n"
     ]
    },
    {
     "data": {
      "text/plain": [
       "<matplotlib.image.AxesImage at 0x7f915e7ab400>"
      ]
     },
     "execution_count": 353,
     "metadata": {},
     "output_type": "execute_result"
    },
    {
     "data": {
      "image/png": "[encoded data removed]",
      "text/plain": [
       "<Figure size 640x480 with 1 Axes>"
      ]
     },
     "metadata": {},
     "output_type": "display_data"
    }
   ],
   "source": [
    "plt.imshow(spec_mask(jax.random.PRNGKey(40), a[0]))"
   ]
  },
  {
   "cell_type": "code",
   "execution_count": 354,
   "id": "a523acb5-4e06-444a-bb33-f5f16ff99b59",
   "metadata": {},
   "outputs": [],
   "source": [
    "parallel_mask = jax.jit(spec_mask)"
   ]
  },
  {
   "cell_type": "code",
   "execution_count": 325,
   "id": "2137ce98-8447-4f4c-ba64-dca81e5d9952",
   "metadata": {},
   "outputs": [
    {
     "ename": "TracerArrayConversionError",
     "evalue": "The numpy.ndarray conversion method __array__() was called on the JAX Tracer object Traced<ShapedArray(int32[])>with<DynamicJaxprTrace(level=0/1)>\nThe error occurred while tracing the function spec_mask at /tmp/ipykernel_744810/206117101.py:1 for jit. This concrete value was not available in Python because it depends on the value of the argument 'rng'.\nSee https://jax.readthedocs.io/en/latest/errors.html#jax.errors.TracerArrayConversionError",
     "output_type": "error",
     "traceback": [
      "\u001b[0;31m---------------------------------------------------------------------------\u001b[0m",
      "\u001b[0;31mAttributeError\u001b[0m                            Traceback (most recent call last)",
      "File \u001b[0;32m/usr/local/lib/python3.8/dist-packages/numpy/core/fromnumeric.py:3154\u001b[0m, in \u001b[0;36mndim\u001b[0;34m(a)\u001b[0m\n\u001b[1;32m   3153\u001b[0m \u001b[38;5;28;01mtry\u001b[39;00m:\n\u001b[0;32m-> 3154\u001b[0m     \u001b[38;5;28;01mreturn\u001b[39;00m \u001b[43ma\u001b[49m\u001b[38;5;241;43m.\u001b[39;49m\u001b[43mndim\u001b[49m\n\u001b[1;32m   3155\u001b[0m \u001b[38;5;28;01mexcept\u001b[39;00m \u001b[38;5;167;01mAttributeError\u001b[39;00m:\n",
      "\u001b[0;31mAttributeError\u001b[0m: 'tuple' object has no attribute 'ndim'",
      "\nDuring handling of the above exception, another exception occurred:\n",
      "\u001b[0;31mTracerArrayConversionError\u001b[0m                Traceback (most recent call last)",
      "Input \u001b[0;32mIn [325]\u001b[0m, in \u001b[0;36m<cell line: 1>\u001b[0;34m()\u001b[0m\n\u001b[0;32m----> 1\u001b[0m \u001b[43mparallel_mask\u001b[49m\u001b[43m(\u001b[49m\u001b[43mjax\u001b[49m\u001b[38;5;241;43m.\u001b[39;49m\u001b[43mrandom\u001b[49m\u001b[38;5;241;43m.\u001b[39;49m\u001b[43mPRNGKey\u001b[49m\u001b[43m(\u001b[49m\u001b[38;5;241;43m43\u001b[39;49m\u001b[43m)\u001b[49m\u001b[43m,\u001b[49m\u001b[43m \u001b[49m\u001b[43ma\u001b[49m\u001b[43m)\u001b[49m\n",
      "    \u001b[0;31m[... skipping hidden 14 frame]\u001b[0m\n",
      "Input \u001b[0;32mIn [322]\u001b[0m, in \u001b[0;36mspec_mask\u001b[0;34m(rng, img)\u001b[0m\n\u001b[1;32m     19\u001b[0m     t \u001b[38;5;241m=\u001b[39m jax\u001b[38;5;241m.\u001b[39mrandom\u001b[38;5;241m.\u001b[39muniform(key, shape\u001b[38;5;241m=\u001b[39m(\u001b[38;5;241m1\u001b[39m,), minval\u001b[38;5;241m=\u001b[39m\u001b[38;5;241m0\u001b[39m, maxval\u001b[38;5;241m=\u001b[39mT)\u001b[38;5;241m.\u001b[39mastype(\u001b[38;5;28mint\u001b[39m) \u001b[38;5;66;03m# [0, T)\u001b[39;00m\n\u001b[1;32m     20\u001b[0m     t0 \u001b[38;5;241m=\u001b[39m jax\u001b[38;5;241m.\u001b[39mrandom\u001b[38;5;241m.\u001b[39mrandint(key, shape\u001b[38;5;241m=\u001b[39m(\u001b[38;5;241m1\u001b[39m,), minval\u001b[38;5;241m=\u001b[39m\u001b[38;5;241m0\u001b[39m, maxval\u001b[38;5;241m=\u001b[39mtau \u001b[38;5;241m-\u001b[39m t) \u001b[38;5;66;03m# [0, tau - t)\u001b[39;00m\n\u001b[0;32m---> 21\u001b[0m     b \u001b[38;5;241m=\u001b[39m \u001b[43mjnp\u001b[49m\u001b[38;5;241;43m.\u001b[39;49m\u001b[43mzeros\u001b[49m\u001b[43m(\u001b[49m\u001b[43m(\u001b[49m\u001b[43mimg\u001b[49m\u001b[38;5;241;43m.\u001b[39;49m\u001b[43mshape\u001b[49m\u001b[43m[\u001b[49m\u001b[38;5;241;43m1\u001b[39;49m\u001b[43m]\u001b[49m\u001b[43m,\u001b[49m\u001b[43m \u001b[49m\u001b[43mt\u001b[49m\u001b[43m[\u001b[49m\u001b[38;5;241;43m0\u001b[39;49m\u001b[43m]\u001b[49m\u001b[43m,\u001b[49m\u001b[43m \u001b[49m\u001b[38;5;241;43m1\u001b[39;49m\u001b[43m)\u001b[49m\u001b[43m)\u001b[49m\n\u001b[1;32m     22\u001b[0m     img \u001b[38;5;241m=\u001b[39m jax\u001b[38;5;241m.\u001b[39mlax\u001b[38;5;241m.\u001b[39mdynamic_update_slice(img, b, (\u001b[38;5;241m0\u001b[39m, t0[\u001b[38;5;241m0\u001b[39m], \u001b[38;5;241m1\u001b[39m))\n\u001b[1;32m     24\u001b[0m \u001b[38;5;28;01mreturn\u001b[39;00m img\n",
      "File \u001b[0;32m/usr/local/lib/python3.8/dist-packages/jax/_src/numpy/lax_numpy.py:1986\u001b[0m, in \u001b[0;36mzeros\u001b[0;34m(shape, dtype)\u001b[0m\n\u001b[1;32m   1984\u001b[0m   \u001b[38;5;28;01mraise\u001b[39;00m \u001b[38;5;167;01mTypeError\u001b[39;00m(\u001b[38;5;124m\"\u001b[39m\u001b[38;5;124mexpected sequence object with len >= 0 or a single integer\u001b[39m\u001b[38;5;124m\"\u001b[39m)\n\u001b[1;32m   1985\u001b[0m lax_internal\u001b[38;5;241m.\u001b[39m_check_user_dtype_supported(dtype, \u001b[38;5;124m\"\u001b[39m\u001b[38;5;124mzeros\u001b[39m\u001b[38;5;124m\"\u001b[39m)\n\u001b[0;32m-> 1986\u001b[0m shape \u001b[38;5;241m=\u001b[39m \u001b[43mcanonicalize_shape\u001b[49m\u001b[43m(\u001b[49m\u001b[43mshape\u001b[49m\u001b[43m)\u001b[49m\n\u001b[1;32m   1987\u001b[0m \u001b[38;5;28;01mreturn\u001b[39;00m lax\u001b[38;5;241m.\u001b[39mfull(shape, \u001b[38;5;241m0\u001b[39m, _jnp_dtype(dtype))\n",
      "File \u001b[0;32m/usr/local/lib/python3.8/dist-packages/jax/_src/numpy/lax_numpy.py:90\u001b[0m, in \u001b[0;36mcanonicalize_shape\u001b[0;34m(shape, context)\u001b[0m\n\u001b[1;32m     88\u001b[0m \u001b[38;5;28;01mdef\u001b[39;00m \u001b[38;5;21mcanonicalize_shape\u001b[39m(\n\u001b[1;32m     89\u001b[0m     shape: Union[core\u001b[38;5;241m.\u001b[39mShape, \u001b[38;5;28mint\u001b[39m, core\u001b[38;5;241m.\u001b[39mTracer], context: \u001b[38;5;28mstr\u001b[39m\u001b[38;5;241m=\u001b[39m\u001b[38;5;124m\"\u001b[39m\u001b[38;5;124m\"\u001b[39m) \u001b[38;5;241m-\u001b[39m\u001b[38;5;241m>\u001b[39m core\u001b[38;5;241m.\u001b[39mShape:\n\u001b[0;32m---> 90\u001b[0m   \u001b[38;5;28;01mif\u001b[39;00m \u001b[38;5;28misinstance\u001b[39m(shape, core\u001b[38;5;241m.\u001b[39mTracer) \u001b[38;5;129;01mor\u001b[39;00m \u001b[43mndim\u001b[49m\u001b[43m(\u001b[49m\u001b[43mshape\u001b[49m\u001b[43m)\u001b[49m \u001b[38;5;241m==\u001b[39m \u001b[38;5;241m0\u001b[39m:\n\u001b[1;32m     91\u001b[0m     \u001b[38;5;28;01mreturn\u001b[39;00m core\u001b[38;5;241m.\u001b[39mcanonicalize_shape((shape,), context)\n\u001b[1;32m     92\u001b[0m   \u001b[38;5;28;01melse\u001b[39;00m:\n",
      "File \u001b[0;32m<__array_function__ internals>:180\u001b[0m, in \u001b[0;36mndim\u001b[0;34m(*args, **kwargs)\u001b[0m\n",
      "File \u001b[0;32m/usr/local/lib/python3.8/dist-packages/numpy/core/fromnumeric.py:3156\u001b[0m, in \u001b[0;36mndim\u001b[0;34m(a)\u001b[0m\n\u001b[1;32m   3154\u001b[0m     \u001b[38;5;28;01mreturn\u001b[39;00m a\u001b[38;5;241m.\u001b[39mndim\n\u001b[1;32m   3155\u001b[0m \u001b[38;5;28;01mexcept\u001b[39;00m \u001b[38;5;167;01mAttributeError\u001b[39;00m:\n\u001b[0;32m-> 3156\u001b[0m     \u001b[38;5;28;01mreturn\u001b[39;00m \u001b[43masarray\u001b[49m\u001b[43m(\u001b[49m\u001b[43ma\u001b[49m\u001b[43m)\u001b[49m\u001b[38;5;241m.\u001b[39mndim\n",
      "File \u001b[0;32m/usr/local/lib/python3.8/dist-packages/jax/core.py:534\u001b[0m, in \u001b[0;36mTracer.__array__\u001b[0;34m(self, *args, **kw)\u001b[0m\n\u001b[1;32m    533\u001b[0m \u001b[38;5;28;01mdef\u001b[39;00m \u001b[38;5;21m__array__\u001b[39m(\u001b[38;5;28mself\u001b[39m, \u001b[38;5;241m*\u001b[39margs, \u001b[38;5;241m*\u001b[39m\u001b[38;5;241m*\u001b[39mkw):\n\u001b[0;32m--> 534\u001b[0m   \u001b[38;5;28;01mraise\u001b[39;00m TracerArrayConversionError(\u001b[38;5;28mself\u001b[39m)\n",
      "\u001b[0;31mTracerArrayConversionError\u001b[0m: The numpy.ndarray conversion method __array__() was called on the JAX Tracer object Traced<ShapedArray(int32[])>with<DynamicJaxprTrace(level=0/1)>\nThe error occurred while tracing the function spec_mask at /tmp/ipykernel_744810/206117101.py:1 for jit. This concrete value was not available in Python because it depends on the value of the argument 'rng'.\nSee https://jax.readthedocs.io/en/latest/errors.html#jax.errors.TracerArrayConversionError"
     ]
    }
   ],
   "source": [
    "parallel_mask(jax.random.PRNGKey(43), a)"
   ]
  },
  {
   "cell_type": "code",
   "execution_count": 270,
   "id": "8eb7e8a2-962e-4a42-8f20-58dd60b30fe6",
   "metadata": {},
   "outputs": [],
   "source": [
    "import matplotlib.pyplot as plt"
   ]
  },
  {
   "cell_type": "code",
   "execution_count": 319,
   "id": "3a1bb72b-06f0-4e4a-befb-8d84c6e7aad0",
   "metadata": {},
   "outputs": [],
   "source": [
    "b = jnp.zeros((10, 1876, 1))"
   ]
  },
  {
   "cell_type": "code",
   "execution_count": 321,
   "id": "b0e82b21-b007-4adf-87e4-166359748e90",
   "metadata": {},
   "outputs": [
    {
     "data": {
      "text/plain": [
       "<matplotlib.image.AxesImage at 0x7f915b97f130>"
      ]
     },
     "execution_count": 321,
     "metadata": {},
     "output_type": "execute_result"
    },
    {
     "data": {
      "image/png": "[encoded data removed]",
      "text/plain": [
       "<Figure size 640x480 with 1 Axes>"
      ]
     },
     "metadata": {},
     "output_type": "display_data"
    }
   ],
   "source": [
    "plt.imshow(jax.lax.dynamic_update_slice(a[0], b, (20, 0, 1)), aspect='auto', origin='lower', interpolation='none')"
   ]
  },
  {
   "cell_type": "code",
   "execution_count": 35,
   "id": "972018fb-2a72-4d6d-be0e-a65433a82ac3",
   "metadata": {},
   "outputs": [
    {
     "data": {
      "text/plain": [
       "<matplotlib.image.AxesImage at 0x7f915ff4ed00>"
      ]
     },
     "execution_count": 35,
     "metadata": {},
     "output_type": "execute_result"
    },
    {
     "data": {
      "image/png": "[encoded data removed]",
      "text/plain": [
       "<Figure size 640x480 with 1 Axes>"
      ]
     },
     "metadata": {},
     "output_type": "display_data"
    }
   ],
   "source": [
    "plt.imshow(jax.lax.dynamic_update_slice(a[0], b, (6, 0, 1)), aspect='auto', origin='lower', interpolation='none')"
   ]
  },
  {
   "cell_type": "code",
   "execution_count": 39,
   "id": "e87badff-582e-40f8-a2f9-a89660a6d797",
   "metadata": {},
   "outputs": [
    {
     "ename": "TracerArrayConversionError",
     "evalue": "The numpy.ndarray conversion method __array__() was called on the JAX Tracer object Traced<ShapedArray(int32[1])>with<BatchTrace(level=1/1)> with\n  val = Traced<ShapedArray(int32[16,1])>with<DynamicJaxprTrace(level=0/1)>\n  batch_dim = 0\nThis Tracer was created on line /tmp/ipykernel_744810/2018614723.py:12 (spec_mask)\nSee https://jax.readthedocs.io/en/latest/errors.html#jax.errors.TracerArrayConversionError",
     "output_type": "error",
     "traceback": [
      "\u001b[0;31m---------------------------------------------------------------------------\u001b[0m",
      "\u001b[0;31mAttributeError\u001b[0m                            Traceback (most recent call last)",
      "File \u001b[0;32m/usr/local/lib/python3.8/dist-packages/numpy/core/fromnumeric.py:3154\u001b[0m, in \u001b[0;36mndim\u001b[0;34m(a)\u001b[0m\n\u001b[1;32m   3153\u001b[0m \u001b[38;5;28;01mtry\u001b[39;00m:\n\u001b[0;32m-> 3154\u001b[0m     \u001b[38;5;28;01mreturn\u001b[39;00m \u001b[43ma\u001b[49m\u001b[38;5;241;43m.\u001b[39;49m\u001b[43mndim\u001b[49m\n\u001b[1;32m   3155\u001b[0m \u001b[38;5;28;01mexcept\u001b[39;00m \u001b[38;5;167;01mAttributeError\u001b[39;00m:\n",
      "\u001b[0;31mAttributeError\u001b[0m: 'tuple' object has no attribute 'ndim'",
      "\nDuring handling of the above exception, another exception occurred:\n",
      "\u001b[0;31mTracerArrayConversionError\u001b[0m                Traceback (most recent call last)",
      "Input \u001b[0;32mIn [39]\u001b[0m, in \u001b[0;36m<cell line: 1>\u001b[0;34m()\u001b[0m\n\u001b[0;32m----> 1\u001b[0m \u001b[43mparallel_mask\u001b[49m\u001b[43m(\u001b[49m\u001b[43mjax\u001b[49m\u001b[38;5;241;43m.\u001b[39;49m\u001b[43mrandom\u001b[49m\u001b[38;5;241;43m.\u001b[39;49m\u001b[43mPRNGKey\u001b[49m\u001b[43m(\u001b[49m\u001b[38;5;241;43m43\u001b[39;49m\u001b[43m)\u001b[49m\u001b[43m,\u001b[49m\u001b[43m \u001b[49m\u001b[43ma\u001b[49m\u001b[43m)\u001b[49m\n",
      "    \u001b[0;31m[... skipping hidden 14 frame]\u001b[0m\n",
      "Input \u001b[0;32mIn [38]\u001b[0m, in \u001b[0;36m<lambda>\u001b[0;34m(rng, x)\u001b[0m\n\u001b[0;32m----> 1\u001b[0m parallel_mask \u001b[38;5;241m=\u001b[39m jax\u001b[38;5;241m.\u001b[39mjit(\u001b[38;5;28;01mlambda\u001b[39;00m rng, x: \u001b[43mjax\u001b[49m\u001b[38;5;241;43m.\u001b[39;49m\u001b[43mvmap\u001b[49m\u001b[43m(\u001b[49m\u001b[43mspec_mask\u001b[49m\u001b[43m)\u001b[49m\u001b[43m(\u001b[49m\u001b[43mjax\u001b[49m\u001b[38;5;241;43m.\u001b[39;49m\u001b[43mrandom\u001b[49m\u001b[38;5;241;43m.\u001b[39;49m\u001b[43msplit\u001b[49m\u001b[43m(\u001b[49m\u001b[43mrng\u001b[49m\u001b[43m,\u001b[49m\u001b[43m \u001b[49m\u001b[43mx\u001b[49m\u001b[38;5;241;43m.\u001b[39;49m\u001b[43mshape\u001b[49m\u001b[43m[\u001b[49m\u001b[38;5;241;43m0\u001b[39;49m\u001b[43m]\u001b[49m\u001b[43m)\u001b[49m\u001b[43m,\u001b[49m\u001b[43m \u001b[49m\u001b[43mx\u001b[49m\u001b[43m)\u001b[49m)\n",
      "    \u001b[0;31m[... skipping hidden 3 frame]\u001b[0m\n",
      "Input \u001b[0;32mIn [36]\u001b[0m, in \u001b[0;36mspec_mask\u001b[0;34m(rng, img)\u001b[0m\n\u001b[1;32m     12\u001b[0m     f \u001b[38;5;241m=\u001b[39m jax\u001b[38;5;241m.\u001b[39mrandom\u001b[38;5;241m.\u001b[39muniform(key, shape\u001b[38;5;241m=\u001b[39m(\u001b[38;5;241m1\u001b[39m,), minval\u001b[38;5;241m=\u001b[39m\u001b[38;5;241m0\u001b[39m, maxval\u001b[38;5;241m=\u001b[39mF)\u001b[38;5;241m.\u001b[39mastype(\u001b[38;5;28mint\u001b[39m) \u001b[38;5;66;03m# [0, F)\u001b[39;00m\n\u001b[1;32m     13\u001b[0m     f0 \u001b[38;5;241m=\u001b[39m jax\u001b[38;5;241m.\u001b[39mrandom\u001b[38;5;241m.\u001b[39mrandint(key, shape\u001b[38;5;241m=\u001b[39m(\u001b[38;5;241m1\u001b[39m,), minval\u001b[38;5;241m=\u001b[39m\u001b[38;5;241m0\u001b[39m, maxval\u001b[38;5;241m=\u001b[39m v \u001b[38;5;241m-\u001b[39m f) \u001b[38;5;66;03m# [0, v - f)\u001b[39;00m\n\u001b[0;32m---> 14\u001b[0m     b \u001b[38;5;241m=\u001b[39m \u001b[43mjnp\u001b[49m\u001b[38;5;241;43m.\u001b[39;49m\u001b[43mzeros\u001b[49m\u001b[43m(\u001b[49m\u001b[43m(\u001b[49m\u001b[43mf\u001b[49m\u001b[43m,\u001b[49m\u001b[43m \u001b[49m\u001b[43mimg\u001b[49m\u001b[38;5;241;43m.\u001b[39;49m\u001b[43mshape\u001b[49m\u001b[43m[\u001b[49m\u001b[38;5;241;43m1\u001b[39;49m\u001b[43m]\u001b[49m\u001b[43m,\u001b[49m\u001b[43m \u001b[49m\u001b[38;5;241;43m1\u001b[39;49m\u001b[43m)\u001b[49m\u001b[43m)\u001b[49m\n\u001b[1;32m     15\u001b[0m     img \u001b[38;5;241m=\u001b[39m jax\u001b[38;5;241m.\u001b[39mlax\u001b[38;5;241m.\u001b[39mdynamic_update_slice(img, b, (f0, \u001b[38;5;241m0\u001b[39m, \u001b[38;5;241m1\u001b[39m))\n\u001b[1;32m     17\u001b[0m \u001b[38;5;28;01mfor\u001b[39;00m i \u001b[38;5;129;01min\u001b[39;00m \u001b[38;5;28mrange\u001b[39m(m_T):\n",
      "File \u001b[0;32m/usr/local/lib/python3.8/dist-packages/jax/_src/numpy/lax_numpy.py:1986\u001b[0m, in \u001b[0;36mzeros\u001b[0;34m(shape, dtype)\u001b[0m\n\u001b[1;32m   1984\u001b[0m   \u001b[38;5;28;01mraise\u001b[39;00m \u001b[38;5;167;01mTypeError\u001b[39;00m(\u001b[38;5;124m\"\u001b[39m\u001b[38;5;124mexpected sequence object with len >= 0 or a single integer\u001b[39m\u001b[38;5;124m\"\u001b[39m)\n\u001b[1;32m   1985\u001b[0m lax_internal\u001b[38;5;241m.\u001b[39m_check_user_dtype_supported(dtype, \u001b[38;5;124m\"\u001b[39m\u001b[38;5;124mzeros\u001b[39m\u001b[38;5;124m\"\u001b[39m)\n\u001b[0;32m-> 1986\u001b[0m shape \u001b[38;5;241m=\u001b[39m \u001b[43mcanonicalize_shape\u001b[49m\u001b[43m(\u001b[49m\u001b[43mshape\u001b[49m\u001b[43m)\u001b[49m\n\u001b[1;32m   1987\u001b[0m \u001b[38;5;28;01mreturn\u001b[39;00m lax\u001b[38;5;241m.\u001b[39mfull(shape, \u001b[38;5;241m0\u001b[39m, _jnp_dtype(dtype))\n",
      "File \u001b[0;32m/usr/local/lib/python3.8/dist-packages/jax/_src/numpy/lax_numpy.py:90\u001b[0m, in \u001b[0;36mcanonicalize_shape\u001b[0;34m(shape, context)\u001b[0m\n\u001b[1;32m     88\u001b[0m \u001b[38;5;28;01mdef\u001b[39;00m \u001b[38;5;21mcanonicalize_shape\u001b[39m(\n\u001b[1;32m     89\u001b[0m     shape: Union[core\u001b[38;5;241m.\u001b[39mShape, \u001b[38;5;28mint\u001b[39m, core\u001b[38;5;241m.\u001b[39mTracer], context: \u001b[38;5;28mstr\u001b[39m\u001b[38;5;241m=\u001b[39m\u001b[38;5;124m\"\u001b[39m\u001b[38;5;124m\"\u001b[39m) \u001b[38;5;241m-\u001b[39m\u001b[38;5;241m>\u001b[39m core\u001b[38;5;241m.\u001b[39mShape:\n\u001b[0;32m---> 90\u001b[0m   \u001b[38;5;28;01mif\u001b[39;00m \u001b[38;5;28misinstance\u001b[39m(shape, core\u001b[38;5;241m.\u001b[39mTracer) \u001b[38;5;129;01mor\u001b[39;00m \u001b[43mndim\u001b[49m\u001b[43m(\u001b[49m\u001b[43mshape\u001b[49m\u001b[43m)\u001b[49m \u001b[38;5;241m==\u001b[39m \u001b[38;5;241m0\u001b[39m:\n\u001b[1;32m     91\u001b[0m     \u001b[38;5;28;01mreturn\u001b[39;00m core\u001b[38;5;241m.\u001b[39mcanonicalize_shape((shape,), context)\n\u001b[1;32m     92\u001b[0m   \u001b[38;5;28;01melse\u001b[39;00m:\n",
      "File \u001b[0;32m<__array_function__ internals>:180\u001b[0m, in \u001b[0;36mndim\u001b[0;34m(*args, **kwargs)\u001b[0m\n",
      "File \u001b[0;32m/usr/local/lib/python3.8/dist-packages/numpy/core/fromnumeric.py:3156\u001b[0m, in \u001b[0;36mndim\u001b[0;34m(a)\u001b[0m\n\u001b[1;32m   3154\u001b[0m     \u001b[38;5;28;01mreturn\u001b[39;00m a\u001b[38;5;241m.\u001b[39mndim\n\u001b[1;32m   3155\u001b[0m \u001b[38;5;28;01mexcept\u001b[39;00m \u001b[38;5;167;01mAttributeError\u001b[39;00m:\n\u001b[0;32m-> 3156\u001b[0m     \u001b[38;5;28;01mreturn\u001b[39;00m \u001b[43masarray\u001b[49m\u001b[43m(\u001b[49m\u001b[43ma\u001b[49m\u001b[43m)\u001b[49m\u001b[38;5;241m.\u001b[39mndim\n",
      "File \u001b[0;32m/usr/local/lib/python3.8/dist-packages/jax/core.py:534\u001b[0m, in \u001b[0;36mTracer.__array__\u001b[0;34m(self, *args, **kw)\u001b[0m\n\u001b[1;32m    533\u001b[0m \u001b[38;5;28;01mdef\u001b[39;00m \u001b[38;5;21m__array__\u001b[39m(\u001b[38;5;28mself\u001b[39m, \u001b[38;5;241m*\u001b[39margs, \u001b[38;5;241m*\u001b[39m\u001b[38;5;241m*\u001b[39mkw):\n\u001b[0;32m--> 534\u001b[0m   \u001b[38;5;28;01mraise\u001b[39;00m TracerArrayConversionError(\u001b[38;5;28mself\u001b[39m)\n",
      "\u001b[0;31mTracerArrayConversionError\u001b[0m: The numpy.ndarray conversion method __array__() was called on the JAX Tracer object Traced<ShapedArray(int32[1])>with<BatchTrace(level=1/1)> with\n  val = Traced<ShapedArray(int32[16,1])>with<DynamicJaxprTrace(level=0/1)>\n  batch_dim = 0\nThis Tracer was created on line /tmp/ipykernel_744810/2018614723.py:12 (spec_mask)\nSee https://jax.readthedocs.io/en/latest/errors.html#jax.errors.TracerArrayConversionError"
     ]
    }
   ],
   "source": [
    "parallel_mask(jax.random.PRNGKey(43), a)"
   ]
  },
  {
   "cell_type": "code",
   "execution_count": null,
   "id": "b784fde5-f24d-46bc-a23a-378b969c6ad2",
   "metadata": {},
   "outputs": [],
   "source": []
  }
 ],
 "metadata": {
  "kernelspec": {
   "display_name": "Python 3 (ipykernel)",
   "language": "python",
   "name": "python3"
  },
  "language_info": {
   "codemirror_mode": {
    "name": "ipython",
    "version": 3
   },
   "file_extension": ".py",
   "mimetype": "text/x-python",
   "name": "python",
   "nbconvert_exporter": "python",
   "pygments_lexer": "ipython3",
   "version": "3.8.10"
  }
 },
 "nbformat": 4,
 "nbformat_minor": 5
}
