{
 "cells": [
  {
   "cell_type": "markdown",
   "id": "bf703a00-2941-4a1e-9471-c95d2201018e",
   "metadata": {},
   "source": [
    "# trainer test"
   ]
  },
  {
   "cell_type": "markdown",
   "id": "10edc4ec-d57e-4d9c-86be-ba64b59ad751",
   "metadata": {},
   "source": [
    "### import module"
   ]
  },
  {
   "cell_type": "code",
   "execution_count": 6,
   "id": "934a30f1-dc4d-4e39-8fb6-eb8503a1f6e1",
   "metadata": {},
   "outputs": [
    {
     "data": {
      "text/plain": [
       "'/home/anthonypark6904/simclr_module'"
      ]
     },
     "execution_count": 6,
     "metadata": {},
     "output_type": "execute_result"
    }
   ],
   "source": [
    "pwd"
   ]
  },
  {
   "cell_type": "code",
   "execution_count": 7,
   "id": "59e82f2a-d23d-4454-8aad-e3f6244116b6",
   "metadata": {},
   "outputs": [],
   "source": [
    "from model.test import AudioEncoder"
   ]
  },
  {
   "cell_type": "code",
   "execution_count": 8,
   "id": "a699ecdf-b905-4d8f-8d2d-77be36b19e35",
   "metadata": {},
   "outputs": [],
   "source": [
    "import dm_pix\n",
    "import jax.numpy as jnp\n",
    "import jax\n",
    "from flax import jax_utils\n",
    "import wandb\n",
    "\n",
    "from flax.training import common_utils\n",
    "from utils.dataloader import mel_dataset\n",
    "import matplotlib.pyplot as plt\n",
    "from torch.utils.data import DataLoader, random_split\n",
    "import numpy as np"
   ]
  },
  {
   "cell_type": "code",
   "execution_count": 9,
   "id": "e2ae43fc-02ca-49da-894f-95c222211fb7",
   "metadata": {},
   "outputs": [
    {
     "name": "stdout",
     "output_type": "stream",
     "text": [
      "Load song_meta.json...\n"
     ]
    },
    {
     "name": "stderr",
     "output_type": "stream",
     "text": [
      "100%|██████████████████████████████████████████████████████████████████████████████████████████████████████████████████████████████████████████████████████████████████| 707989/707989 [00:00<00:00, 782271.83it/s]\n"
     ]
    },
    {
     "name": "stdout",
     "output_type": "stream",
     "text": [
      "Load complete!\n",
      "\n",
      "Load file list...\n"
     ]
    },
    {
     "name": "stderr",
     "output_type": "stream",
     "text": [
      "5it [00:00, 69.43it/s]\n"
     ]
    }
   ],
   "source": [
    "data = mel_dataset('/home/anthonypark6904/dev_dataset', 'total')"
   ]
  },
  {
   "cell_type": "code",
   "execution_count": 10,
   "id": "1d28ae1e-bfaa-488b-ad0a-56ecb6cc9d29",
   "metadata": {},
   "outputs": [],
   "source": [
    "def contrastive_collate_batch(batch):\n",
    "    x_train = [x for x, _ in batch]\n",
    "    \n",
    "    y_train = [y for _, y in batch]                  \n",
    "    return np.stack(x_train + x_train, axis=0), np.array(y_train)\n",
    "\n",
    "dataset_size = len(data)\n",
    "train_size = int(dataset_size * 0.8)    \n",
    "test_size = dataset_size - train_size\n",
    "\n",
    "train_dataset, test_dataset, = random_split(data, [train_size, test_size])\n",
    "\n",
    "\n",
    "\n",
    "train_dataloader = DataLoader(train_dataset, batch_size=16, shuffle=True, num_workers=0, collate_fn=contrastive_collate_batch)\n",
    "test_dataloader = DataLoader(test_dataset, batch_size=int(16/4), shuffle=True, num_workers=0, collate_fn=contrastive_collate_batch)"
   ]
  },
  {
   "cell_type": "code",
   "execution_count": 11,
   "id": "2c2cf884-0dac-442e-aee6-77acca659ab5",
   "metadata": {},
   "outputs": [],
   "source": [
    "batch, _= next(iter(train_dataloader))"
   ]
  },
  {
   "cell_type": "code",
   "execution_count": 14,
   "id": "e3fa9fd4-5c78-4429-80f8-268cd901f8ec",
   "metadata": {},
   "outputs": [
    {
     "name": "stderr",
     "output_type": "stream",
     "text": [
      "tcmalloc: large alloc 1475346432 bytes == 0x6e9b0000 @  0x7fdf4415c680 0x7fdf4417d824 0x7fdf4417db8a 0x7fddf4742a8c 0x7fddefebeb35 0x7fddefec2acd 0x7fddefdfc2a9 0x7fddefbc57fd 0x7fddefbae781 0x5f6929 0x5f74f6 0x50c383 0x570b26 0x569dba 0x5f6eb3 0x5f8892 0x66931d 0x5f627e 0x56d2d5 0x569dba 0x5f6eb3 0x5f6082 0x56d2d5 0x569dba 0x5f6eb3 0x5f8892 0x66931d 0x5f627e 0x56d2d5 0x5f6cd6 0x56bbfa\n",
      "tcmalloc: large alloc 1475354624 bytes == 0xc68b0000 @  0x7fdf4415c680 0x7fdf4417d824 0x7fddf0637045 0x7fddf06d8f46 0x7fddf06d9718 0x7fdf079c8096 0x7fddefec2acd 0x7fddefdfc2a9 0x7fddefbc57fd 0x7fddefbae781 0x5f6929 0x5f74f6 0x50c383 0x570b26 0x569dba 0x5f6eb3 0x5f8892 0x66931d 0x5f627e 0x56d2d5 0x569dba 0x5f6eb3 0x5f6082 0x56d2d5 0x569dba 0x5f6eb3 0x5f8892 0x66931d 0x5f627e 0x56d2d5 0x5f6cd6\n",
      "tcmalloc: large alloc 1475346432 bytes == 0xc68b0000 @  0x7fdf4415c680 0x7fdf4417d824 0x7fdf4417db8a 0x7fddf4742a8c 0x7fddefebeb35 0x7fddefec2acd 0x7fddefdfc2a9 0x7fddefbc57fd 0x7fddefbae781 0x5f6929 0x5f74f6 0x50c383 0x570b26 0x569dba 0x5f6eb3 0x5f882b 0x66931d 0x5f627e 0x56d2d5 0x569dba 0x5f6eb3 0x5f6082 0x56d2d5 0x5f6cd6 0x56bbfa 0x569dba 0x5f6eb3 0x5f6082 0x56d2d5 0x569dba 0x5f6eb3\n",
      "tcmalloc: large alloc 1660542976 bytes == 0x6e9b0000 @  0x7fdf4415c680 0x7fdf4417d824 0x7fddf0637045 0x7fddf064d441 0x7fddf064e3b0 0x7fddf064edab 0x7fddf06d7adb 0x7fddf06d8f59 0x7fddf06d9718 0x7fdeb899f096 0x7fddefec2acd 0x7fddefdfc2a9 0x7fddefbc57fd 0x7fddefbae781 0x5f6929 0x5f74f6 0x50c383 0x570b26 0x569dba 0x5f6eb3 0x5f8892 0x66931d 0x5f627e 0x56d2d5 0x569dba 0x5f6eb3 0x5f6082 0x56d2d5 0x569dba 0x5f6eb3 0x5f8892\n"
     ]
    }
   ],
   "source": [
    "key = jax.random.PRNGKey(32)\n",
    "params = AudioEncoder().init({'params':key,'dropout':key}, jnp.ones((32, 48, 1876, 1)))"
   ]
  },
  {
   "cell_type": "code",
   "execution_count": 16,
   "id": "670c3e65-02cb-4c7b-9d5e-0fd174d50fc8",
   "metadata": {},
   "outputs": [],
   "source": [
    "batch = jnp.expand_dims(batch, axis=-1)"
   ]
  },
  {
   "cell_type": "code",
   "execution_count": 18,
   "id": "e2533cc3-c06f-4528-b913-f9b6232c5dfa",
   "metadata": {},
   "outputs": [],
   "source": [
    "feats = AudioEncoder().apply(params, batch, rngs={'dropout':key})"
   ]
  },
  {
   "cell_type": "code",
   "execution_count": 19,
   "id": "c187df8f-537c-49aa-ade3-cd6e364dd864",
   "metadata": {},
   "outputs": [
    {
     "data": {
      "text/plain": [
       "(32, 512)"
      ]
     },
     "execution_count": 19,
     "metadata": {},
     "output_type": "execute_result"
    }
   ],
   "source": [
    "feats.shape"
   ]
  },
  {
   "cell_type": "code",
   "execution_count": 20,
   "id": "40c0b672-ae21-4b63-bb28-8d35e163c45c",
   "metadata": {},
   "outputs": [
    {
     "data": {
      "text/plain": [
       "(32, 1, 512)"
      ]
     },
     "execution_count": 20,
     "metadata": {},
     "output_type": "execute_result"
    }
   ],
   "source": [
    "feats[:,None,:].shape"
   ]
  },
  {
   "cell_type": "code",
   "execution_count": 21,
   "id": "a7232052-ad39-4fe1-b6ad-4ea23d5d79e1",
   "metadata": {},
   "outputs": [
    {
     "data": {
      "text/plain": [
       "(1, 32, 512)"
      ]
     },
     "execution_count": 21,
     "metadata": {},
     "output_type": "execute_result"
    }
   ],
   "source": [
    "feats[None,:,:].shape"
   ]
  },
  {
   "cell_type": "code",
   "execution_count": 22,
   "id": "f297fd46-349b-43bb-9d33-f3f9420b49dc",
   "metadata": {},
   "outputs": [],
   "source": [
    "import optax"
   ]
  },
  {
   "cell_type": "code",
   "execution_count": 23,
   "id": "1a9e61ff-9cff-4673-9436-75107539c9b0",
   "metadata": {},
   "outputs": [
    {
     "data": {
      "text/plain": [
       "(32, 32)"
      ]
     },
     "execution_count": 23,
     "metadata": {},
     "output_type": "execute_result"
    }
   ],
   "source": [
    "cos_sim = optax.cosine_similarity(feats[:,None,:], feats[None,:,:])\n",
    "cos_sim.shape"
   ]
  },
  {
   "cell_type": "code",
   "execution_count": 25,
   "id": "672224af-7394-41d7-91ca-d8eea406b709",
   "metadata": {},
   "outputs": [
    {
     "data": {
      "text/plain": [
       "DeviceArray([[1.0000001 , 0.44243404, 0.47233137, ..., 0.42016616,\n",
       "              0.48097083, 0.37079483],\n",
       "             [0.44243404, 1.0000001 , 0.40733856, ..., 0.43011916,\n",
       "              0.54239106, 0.57431173],\n",
       "             [0.47233137, 0.40733856, 0.99999994, ..., 0.51305443,\n",
       "              0.4810419 , 0.43335706],\n",
       "             ...,\n",
       "             [0.42016616, 0.43011916, 0.51305443, ..., 1.        ,\n",
       "              0.38413945, 0.38568047],\n",
       "             [0.48097083, 0.54239106, 0.4810419 , ..., 0.38413945,\n",
       "              0.99999994, 0.5070113 ],\n",
       "             [0.37079483, 0.57431173, 0.43335706, ..., 0.38568047,\n",
       "              0.5070113 , 1.        ]], dtype=float32)"
      ]
     },
     "execution_count": 25,
     "metadata": {},
     "output_type": "execute_result"
    }
   ],
   "source": [
    "cos_sim"
   ]
  },
  {
   "cell_type": "code",
   "execution_count": 24,
   "id": "6adb278c-ca49-483c-8d54-306cdc8a0709",
   "metadata": {},
   "outputs": [
    {
     "data": {
      "text/plain": [
       "<matplotlib.image.AxesImage at 0x7fdd95089f10>"
      ]
     },
     "execution_count": 24,
     "metadata": {},
     "output_type": "execute_result"
    },
    {
     "data": {
      "image/png": "[encoded data removed]",
      "text/plain": [
       "<Figure size 640x480 with 1 Axes>"
      ]
     },
     "metadata": {},
     "output_type": "display_data"
    }
   ],
   "source": [
    "plt.imshow(cos_sim)"
   ]
  },
  {
   "cell_type": "code",
   "execution_count": 26,
   "id": "5c558cbf-1383-4e79-948c-c174b1bf396f",
   "metadata": {},
   "outputs": [
    {
     "data": {
      "text/plain": [
       "DeviceArray([[14.285716 ,  6.320486 ,  6.747591 , ...,  6.0023737,\n",
       "               6.8710117,  5.297069 ],\n",
       "             [ 6.320486 , 14.285716 ,  5.8191223, ...,  6.1445594,\n",
       "               7.7484436,  8.204453 ],\n",
       "             [ 6.747591 ,  5.8191223, 14.285713 , ...,  7.329349 ,\n",
       "               6.8720274,  6.190815 ],\n",
       "             ...,\n",
       "             [ 6.0023737,  6.1445594,  7.329349 , ..., 14.285714 ,\n",
       "               5.487706 ,  5.509721 ],\n",
       "             [ 6.8710117,  7.7484436,  6.8720274, ...,  5.487706 ,\n",
       "              14.285713 ,  7.2430186],\n",
       "             [ 5.297069 ,  8.204453 ,  6.190815 , ...,  5.509721 ,\n",
       "               7.2430186, 14.285714 ]], dtype=float32)"
      ]
     },
     "execution_count": 26,
     "metadata": {},
     "output_type": "execute_result"
    }
   ],
   "source": [
    "cos_sim /= 0.07\n",
    "cos_sim"
   ]
  },
  {
   "cell_type": "code",
   "execution_count": 27,
   "id": "3ee73b39-372a-48e7-bdee-50109fc7c5b0",
   "metadata": {},
   "outputs": [
    {
     "data": {
      "text/plain": [
       "DeviceArray([ 0,  1,  2,  3,  4,  5,  6,  7,  8,  9, 10, 11, 12, 13, 14,\n",
       "             15, 16, 17, 18, 19, 20, 21, 22, 23, 24, 25, 26, 27, 28, 29,\n",
       "             30, 31], dtype=int32)"
      ]
     },
     "execution_count": 27,
     "metadata": {},
     "output_type": "execute_result"
    }
   ],
   "source": [
    "diag_range = jnp.arange(feats.shape[0], dtype=jnp.int32)\n",
    "diag_range"
   ]
  },
  {
   "cell_type": "code",
   "execution_count": 28,
   "id": "4fe892e2-b1f2-464b-b852-08dbfab9ef75",
   "metadata": {},
   "outputs": [
    {
     "data": {
      "text/plain": [
       "<matplotlib.image.AxesImage at 0x7fdd94f87eb0>"
      ]
     },
     "execution_count": 28,
     "metadata": {},
     "output_type": "execute_result"
    },
    {
     "data": {
      "image/png": "[encoded data removed]",
      "text/plain": [
       "<Figure size 640x480 with 1 Axes>"
      ]
     },
     "metadata": {},
     "output_type": "display_data"
    }
   ],
   "source": [
    "cos_sim = cos_sim.at[diag_range, diag_range].set(-9e15)\n",
    "plt.imshow(cos_sim)"
   ]
  },
  {
   "cell_type": "code",
   "execution_count": 33,
   "id": "0df8396e-611f-40f4-943e-a540ce41e80c",
   "metadata": {},
   "outputs": [
    {
     "name": "stdout",
     "output_type": "stream",
     "text": [
      "[ 0  1  2  3  4  5  6  7  8  9 10 11 12 13 14 15 16 17 18 19 20 21 22 23\n",
      " 24 25 26 27 28 29 30 31]\n",
      "[16 17 18 19 20 21 22 23 24 25 26 27 28 29 30 31  0  1  2  3  4  5  6  7\n",
      "  8  9 10 11 12 13 14 15]\n"
     ]
    }
   ],
   "source": [
    "shifted_diag = jnp.roll(diag_range, batch.shape[0]//2)\n",
    "print(diag_range)\n",
    "print(shifted_diag)"
   ]
  },
  {
   "cell_type": "code",
   "execution_count": 35,
   "id": "25571d95-68f2-4238-b0f5-35932919cf7a",
   "metadata": {},
   "outputs": [
    {
     "data": {
      "text/plain": [
       "DeviceArray(6.6657577, dtype=float32)"
      ]
     },
     "execution_count": 35,
     "metadata": {},
     "output_type": "execute_result"
    }
   ],
   "source": [
    "cos_sim[0,16]"
   ]
  },
  {
   "cell_type": "code",
   "execution_count": 34,
   "id": "ba3ce062-6b2f-42f5-8cd3-e84bd129b7d6",
   "metadata": {},
   "outputs": [
    {
     "data": {
      "text/plain": [
       "DeviceArray([6.6657577, 6.2733374, 7.177351 , 7.648434 , 7.6527033,\n",
       "             8.131986 , 7.176394 , 8.003541 , 7.9154663, 8.251413 ,\n",
       "             7.538574 , 8.145046 , 8.483728 , 6.2777233, 5.2481804,\n",
       "             7.18519  , 6.6657577, 6.2733374, 7.177351 , 7.648434 ,\n",
       "             7.6527033, 8.131986 , 7.176394 , 8.003541 , 7.9154663,\n",
       "             8.251413 , 7.538574 , 8.145046 , 8.483728 , 6.2777233,\n",
       "             5.2481804, 7.18519  ], dtype=float32)"
      ]
     },
     "execution_count": 34,
     "metadata": {},
     "output_type": "execute_result"
    }
   ],
   "source": [
    "pos_logits = cos_sim[diag_range, shifted_diag]\n",
    "pos_logits"
   ]
  },
  {
   "cell_type": "code",
   "execution_count": 37,
   "id": "4f883634-c5b4-4986-ad25-da9bde790f67",
   "metadata": {},
   "outputs": [
    {
     "data": {
      "text/plain": [
       "(32, 32)"
      ]
     },
     "execution_count": 37,
     "metadata": {},
     "output_type": "execute_result"
    }
   ],
   "source": [
    "cos_sim.shape"
   ]
  },
  {
   "cell_type": "code",
   "execution_count": 36,
   "id": "ebec27a5-c1e6-486e-9d9d-22e6173d65e1",
   "metadata": {},
   "outputs": [
    {
     "data": {
      "text/plain": [
       "DeviceArray([10.890387 , 11.00034  , 10.751769 , 10.651169 , 11.620351 ,\n",
       "             10.95671  , 10.127899 , 11.3607025, 10.706646 , 10.907665 ,\n",
       "             11.015344 , 10.545628 , 10.836529 , 10.762903 ,  9.690686 ,\n",
       "             10.604003 , 10.103782 , 10.49164  , 10.693768 , 11.434811 ,\n",
       "             10.25871  , 10.500273 , 10.682018 , 11.033133 , 10.924193 ,\n",
       "             11.680485 , 10.18227  , 11.402122 , 11.225077 , 10.3362875,\n",
       "             10.837867 , 10.550934 ], dtype=float32)"
      ]
     },
     "execution_count": 36,
     "metadata": {},
     "output_type": "execute_result"
    }
   ],
   "source": [
    "jax.nn.logsumexp(cos_sim, axis=-1)"
   ]
  },
  {
   "cell_type": "code",
   "execution_count": 38,
   "id": "53a9d41e-be01-43e0-815b-22f71a9b0823",
   "metadata": {},
   "outputs": [
    {
     "data": {
      "text/plain": [
       "DeviceArray(3.413014, dtype=float32)"
      ]
     },
     "execution_count": 38,
     "metadata": {},
     "output_type": "execute_result"
    }
   ],
   "source": [
    "nll = - pos_logits + jax.nn.logsumexp(cos_sim, axis=-1)\n",
    "nll.mean()"
   ]
  },
  {
   "cell_type": "code",
   "execution_count": 42,
   "id": "0ecaed16-c894-42b0-a6d3-63ba89531e22",
   "metadata": {},
   "outputs": [
    {
     "data": {
      "text/plain": [
       "<matplotlib.image.AxesImage at 0x7fdd94eaf3a0>"
      ]
     },
     "execution_count": 42,
     "metadata": {},
     "output_type": "execute_result"
    },
    {
     "data": {
      "image/png": "[encoded data removed]",
      "text/plain": [
       "<Figure size 640x480 with 1 Axes>"
      ]
     },
     "metadata": {},
     "output_type": "display_data"
    }
   ],
   "source": [
    "plt.imshow(cos_sim.at[shifted_diag, diag_range].set(-9e15))"
   ]
  },
  {
   "cell_type": "code",
   "execution_count": 43,
   "id": "84c4de46-7261-4a44-abb5-0ac7a2246381",
   "metadata": {},
   "outputs": [
    {
     "data": {
      "text/plain": [
       "(32, 1)"
      ]
     },
     "execution_count": 43,
     "metadata": {},
     "output_type": "execute_result"
    }
   ],
   "source": [
    "pos_logits[:,None].shape"
   ]
  },
  {
   "cell_type": "code",
   "execution_count": 44,
   "id": "85b02417-aa3a-41b2-ab86-12131bc804bd",
   "metadata": {},
   "outputs": [],
   "source": [
    "comb_sim = jnp.concatenate([pos_logits[:,None],\n",
    "                            cos_sim.at[shifted_diag, diag_range].set(-9e15)],\n",
    "                           axis=-1)"
   ]
  },
  {
   "cell_type": "markdown",
   "id": "d1058308-a510-472b-a996-ebea4278b939",
   "metadata": {},
   "source": [
    "## plt.imshow(comb_sim)\n"
   ]
  },
  {
   "cell_type": "code",
   "execution_count": 50,
   "id": "f2c68793-8c89-4b8e-9070-2f8d812c17cd",
   "metadata": {},
   "outputs": [],
   "source": [
    "sim_argsort =(-comb_sim).argsort(axis=-1).argmin(axis=-1)"
   ]
  },
  {
   "cell_type": "code",
   "execution_count": 56,
   "id": "bce3654b-2723-4574-8a0d-c4d0accd8ca3",
   "metadata": {},
   "outputs": [
    {
     "data": {
      "text/plain": [
       "DeviceArray([20, 24, 11,  8, 15,  4,  6,  8,  5,  1, 10,  2,  0, 20, 24,\n",
       "              7,  8, 22,  9, 14,  4,  1, 12,  7,  5, 10,  4,  7,  3, 20,\n",
       "             29,  9], dtype=int32)"
      ]
     },
     "execution_count": 56,
     "metadata": {},
     "output_type": "execute_result"
    }
   ],
   "source": [
    "sim_argsort"
   ]
  },
  {
   "cell_type": "code",
   "execution_count": 58,
   "id": "c3b34fc9-2511-411a-8004-c6462093ec83",
   "metadata": {},
   "outputs": [
    {
     "data": {
      "text/plain": [
       "DeviceArray([21, 25, 12,  9, 16,  5,  7,  9,  6,  2, 11,  3,  1, 21, 25,\n",
       "              8,  9, 23, 10, 15,  5,  2, 13,  8,  6, 11,  5,  8,  4, 21,\n",
       "             30, 10], dtype=int32)"
      ]
     },
     "execution_count": 58,
     "metadata": {},
     "output_type": "execute_result"
    }
   ],
   "source": [
    "(sim_argsort + 1)"
   ]
  },
  {
   "cell_type": "code",
   "execution_count": null,
   "id": "1ec6e368-1302-41ab-91f4-7e44284adaa1",
   "metadata": {},
   "outputs": [],
   "source": [
    "cos_sim = optax.cosine_similarity(feats[:,None,:], feats[None,:,:])\n",
    "cos_sim /= self.temperature\n",
    "diag_range = jnp.arange(feats.shape[0], dtype=jnp.int32)\n",
    "cos_sim = cos_sim.at[diag_range, diag_range].set(-9e15)\n",
    "\n",
    "shifted_diag = jnp.roll(diag_range, x.shape[0]//2)\n",
    "pos_logits = cos_sim[diag_range, shifted_diag]\n",
    "\n",
    "# InfoNCE loss\n",
    "nll = - pos_logits + nn.logsumexp(cos_sim, axis=-1)\n",
    "nll = nll.mean()\n",
    "\n",
    "# Logging\n",
    "metrics = {'loss': nll}\n",
    "# Determine ranking position of positive example\n",
    "comb_sim = jnp.concatenate([pos_logits[:,None],\n",
    "                            cos_sim.at[shifted_diag, diag_range].set(-9e15)],\n",
    "                           axis=-1)\n",
    "sim_argsort = (-comb_sim).argsort(axis=-1).argmin(axis=-1)\n",
    "\n",
    "# Logging of ranking position\n",
    "metrics['acc_top1'] = (sim_argsort == 0).mean()\n",
    "metrics['acc_top5'] = (sim_argsort < 5).mean()\n",
    "metrics['acc_mean_pos'] = (sim_argsort + 1).mean()"
   ]
  },
  {
   "cell_type": "code",
   "execution_count": 7,
   "id": "555f3081-798f-4427-a44b-917868709b60",
   "metadata": {},
   "outputs": [
    {
     "name": "stderr",
     "output_type": "stream",
     "text": [
      "WARNING:absl:No GPU/TPU found, falling back to CPU. (Set TF_CPP_MIN_LOG_LEVEL=0 and rerun for more info.)\n"
     ]
    }
   ],
   "source": [
    "trainer = AudioEncoderTrainer(exmp=jnp.ones((16, 48, 1876,1)))"
   ]
  },
  {
   "cell_type": "code",
   "execution_count": 24,
   "id": "d0646f16-fb7b-455c-b481-ad3e39008823",
   "metadata": {},
   "outputs": [
    {
     "data": {
      "text/plain": [
       "8"
      ]
     },
     "execution_count": 24,
     "metadata": {},
     "output_type": "execute_result"
    }
   ],
   "source": [
    "len(batch)"
   ]
  },
  {
   "cell_type": "code",
   "execution_count": 10,
   "id": "2cdc7c12-4ee6-43bd-b9e9-d1bcda3e88cf",
   "metadata": {},
   "outputs": [
    {
     "ename": "NameError",
     "evalue": "name 'key' is not defined",
     "output_type": "error",
     "traceback": [
      "\u001b[0;31m---------------------------------------------------------------------------\u001b[0m",
      "\u001b[0;31mNameError\u001b[0m                                 Traceback (most recent call last)",
      "Input \u001b[0;32mIn [10]\u001b[0m, in \u001b[0;36m<cell line: 1>\u001b[0;34m()\u001b[0m\n\u001b[0;32m----> 1\u001b[0m AudioEncoder()\u001b[38;5;241m.\u001b[39minit(\u001b[43mkey\u001b[49m)(batch)\n",
      "\u001b[0;31mNameError\u001b[0m: name 'key' is not defined"
     ]
    }
   ],
   "source": [
    "AudioEncoder().init(key)(batch)"
   ]
  },
  {
   "cell_type": "code",
   "execution_count": 5,
   "id": "2557813e-a534-435f-8209-d705906b9d48",
   "metadata": {},
   "outputs": [
    {
     "name": "stderr",
     "output_type": "stream",
     "text": [
      "Epoch 1:   0%|                                                                                                                                                                              | 0/87 [00:00<?, ?it/s]tcmalloc: large alloc 5538316288 bytes == 0x82e3a000 @  0x7fcd19668680 0x7fcd19689824 0x7fcd19689b8a 0x7fcbca70ea8c 0x7fcbc5e8ab35 0x7fcbc5e8eacd 0x7fcbc5dc9795 0x7fcbc5b91e2a 0x7fcbc5b7a781 0x5f6929 0x5f74f6 0x50c383 0x570b26 0x569dba 0x5f6eb3 0x5f6082 0x56d2d5 0x569dba 0x5f6eb3 0x59d81e 0x5f627e 0x56d2d5 0x569dba 0x5f6eb3 0x5f6082 0x56d2d5 0x5f6cd6 0x56bbfa 0x5f6cd6 0x56bbfa 0x569dba\n",
      "tcmalloc: large alloc 3319922688 bytes == 0x22af72000 @  0x7fcd19668680 0x7fcd19689824 0x7fcbc6603045 0x7fcbc6619441 0x7fcbc661a3b0 0x7fcbc661adab 0x7fcbc66a3adb 0x7fcbc66a4f59 0x7fcbc66a5718 0x7fcc1b86e394 (nil)\n",
      "Epoch 1:   1%|█▉                                                                                                                                                                    | 1/87 [00:19<28:29, 19.88s/it]"
     ]
    },
    {
     "name": "stdout",
     "output_type": "stream",
     "text": [
      "{'acc_mean_pos': array(2.5, dtype=float32), 'acc_top1': array(0., dtype=float32), 'acc_top5': array(1., dtype=float32), 'loss': array(2.4876919, dtype=float32)}\n"
     ]
    },
    {
     "name": "stderr",
     "output_type": "stream",
     "text": [
      "tcmalloc: large alloc 5538316288 bytes == 0x82e3a000 @  0x7fcd19668680 0x7fcd19689824 0x7fcd19689b8a 0x7fcbca70ea8c 0x7fcbc5e8ab35 0x7fcbc5e8eacd 0x7fcbc5c0653f 0x7fcbc5c0827d 0x5f74f6 0x571164 0x569dba 0x50bca0 0x56cc1f 0x569dba 0x50bca0 0x56cc1f 0x569dba 0x6902a7 0x6023c4 0x5c6730 0x56bacd 0x501488 0x56d4d6 0x501488 0x56d4d6 0x501488 0x505166 0x56bbfa 0x5f6cd6 0x56bacd 0x5f6cd6\n",
      "tcmalloc: large alloc 3319922688 bytes == 0x22af72000 @  0x7fcd19668680 0x7fcd19689824 0x7fcbc6603045 0x7fcbc6619441 0x7fcbc661a3b0 0x7fcbc661adab 0x7fcbc66a3adb 0x7fcbc66a4f59 0x7fcbc66a5718 0x7fcc1b86e394 (nil)\n",
      "Epoch 1:   2%|███▊                                                                                                                                                                  | 2/87 [00:28<18:22, 12.97s/it]"
     ]
    },
    {
     "name": "stdout",
     "output_type": "stream",
     "text": [
      "{'acc_mean_pos': array(2.5, dtype=float32), 'acc_top1': array(0., dtype=float32), 'acc_top5': array(1., dtype=float32), 'loss': array(1.6713549, dtype=float32)}\n"
     ]
    },
    {
     "name": "stderr",
     "output_type": "stream",
     "text": [
      "tcmalloc: large alloc 5538316288 bytes == 0x82e3a000 @  0x7fcd19668680 0x7fcd19689824 0x7fcd19689b8a 0x7fcbca70ea8c 0x7fcbc5e8ab35 0x7fcbc5e8eacd 0x7fcbc5c0653f 0x7fcbc5c0827d 0x5f74f6 0x571164 0x569dba 0x50bca0 0x56cc1f 0x569dba 0x50bca0 0x56cc1f 0x569dba 0x6902a7 0x6023c4 0x5c6730 0x56bacd 0x501488 0x56d4d6 0x501488 0x56d4d6 0x501488 0x505166 0x56bbfa 0x5f6cd6 0x56bacd 0x5f6cd6\n",
      "tcmalloc: large alloc 3319922688 bytes == 0x22af72000 @  0x7fcd19668680 0x7fcd19689824 0x7fcbc6603045 0x7fcbc6619441 0x7fcbc661a3b0 0x7fcbc661adab 0x7fcbc66a3adb 0x7fcbc66a4f59 0x7fcbc66a5718 0x7fcc1b86e394 (nil)\n",
      "Epoch 1:   3%|█████▋                                                                                                                                                                | 3/87 [00:35<14:55, 10.66s/it]"
     ]
    },
    {
     "name": "stdout",
     "output_type": "stream",
     "text": [
      "{'acc_mean_pos': array(2., dtype=float32), 'acc_top1': array(0.25, dtype=float32), 'acc_top5': array(1., dtype=float32), 'loss': array(1.2609322, dtype=float32)}\n"
     ]
    },
    {
     "name": "stderr",
     "output_type": "stream",
     "text": [
      "tcmalloc: large alloc 5538316288 bytes == 0x82e3a000 @  0x7fcd19668680 0x7fcd19689824 0x7fcd19689b8a 0x7fcbca70ea8c 0x7fcbc5e8ab35 0x7fcbc5e8eacd 0x7fcbc5c0653f 0x7fcbc5c0827d 0x5f74f6 0x571164 0x569dba 0x50bca0 0x56cc1f 0x569dba 0x50bca0 0x56cc1f 0x569dba 0x6902a7 0x6023c4 0x5c6730 0x56bacd 0x501488 0x56d4d6 0x501488 0x56d4d6 0x501488 0x505166 0x56bbfa 0x5f6cd6 0x56bacd 0x5f6cd6\n",
      "tcmalloc: large alloc 3319922688 bytes == 0x22af72000 @  0x7fcd19668680 0x7fcd19689824 0x7fcbc6603045 0x7fcbc6619441 0x7fcbc661a3b0 0x7fcbc661adab 0x7fcbc66a3adb 0x7fcbc66a4f59 0x7fcbc66a5718 0x7fcc1b86e394 (nil)\n",
      "Epoch 1:   5%|███████▋                                                                                                                                                              | 4/87 [00:43<13:14,  9.57s/it]"
     ]
    },
    {
     "name": "stdout",
     "output_type": "stream",
     "text": [
      "{'acc_mean_pos': array(2.25, dtype=float32), 'acc_top1': array(0.25, dtype=float32), 'acc_top5': array(1., dtype=float32), 'loss': array(1.3677652, dtype=float32)}\n"
     ]
    },
    {
     "name": "stderr",
     "output_type": "stream",
     "text": [
      "tcmalloc: large alloc 5538316288 bytes == 0x82e3a000 @  0x7fcd19668680 0x7fcd19689824 0x7fcd19689b8a 0x7fcbca70ea8c 0x7fcbc5e8ab35 0x7fcbc5e8eacd 0x7fcbc5c0653f 0x7fcbc5c0827d 0x5f74f6 0x571164 0x569dba 0x50bca0 0x56cc1f 0x569dba 0x50bca0 0x56cc1f 0x569dba 0x6902a7 0x6023c4 0x5c6730 0x56bacd 0x501488 0x56d4d6 0x501488 0x56d4d6 0x501488 0x505166 0x56bbfa 0x5f6cd6 0x56bacd 0x5f6cd6\n",
      "tcmalloc: large alloc 3319922688 bytes == 0x22af72000 @  0x7fcd19668680 0x7fcd19689824 0x7fcbc6603045 0x7fcbc6619441 0x7fcbc661a3b0 0x7fcbc661adab 0x7fcbc66a3adb 0x7fcbc66a4f59 0x7fcbc66a5718 0x7fcc1b86e394 (nil)\n",
      "Epoch 1:   6%|█████████▌                                                                                                                                                            | 5/87 [00:53<12:54,  9.44s/it]"
     ]
    },
    {
     "name": "stdout",
     "output_type": "stream",
     "text": [
      "{'acc_mean_pos': array(1., dtype=float32), 'acc_top1': array(1., dtype=float32), 'acc_top5': array(1., dtype=float32), 'loss': array(0.24804997, dtype=float32)}\n"
     ]
    },
    {
     "name": "stderr",
     "output_type": "stream",
     "text": [
      "tcmalloc: large alloc 5538316288 bytes == 0x82e3a000 @  0x7fcd19668680 0x7fcd19689824 0x7fcd19689b8a 0x7fcbca70ea8c 0x7fcbc5e8ab35 0x7fcbc5e8eacd 0x7fcbc5c0653f 0x7fcbc5c0827d 0x5f74f6 0x571164 0x569dba 0x50bca0 0x56cc1f 0x569dba 0x50bca0 0x56cc1f 0x569dba 0x6902a7 0x6023c4 0x5c6730 0x56bacd 0x501488 0x56d4d6 0x501488 0x56d4d6 0x501488 0x505166 0x56bbfa 0x5f6cd6 0x56bacd 0x5f6cd6\n",
      "Epoch 1:   7%|███████████▍                                                                                                                                                          | 6/87 [01:00<11:48,  8.75s/it]"
     ]
    },
    {
     "name": "stdout",
     "output_type": "stream",
     "text": [
      "{'acc_mean_pos': array(2.25, dtype=float32), 'acc_top1': array(0., dtype=float32), 'acc_top5': array(1., dtype=float32), 'loss': array(1.6862497, dtype=float32)}\n"
     ]
    },
    {
     "name": "stderr",
     "output_type": "stream",
     "text": [
      "tcmalloc: large alloc 5538316288 bytes == 0x82e3a000 @  0x7fcd19668680 0x7fcd19689824 0x7fcd19689b8a 0x7fcbca70ea8c 0x7fcbc5e8ab35 0x7fcbc5e8eacd 0x7fcbc5c0653f 0x7fcbc5c0827d 0x5f74f6 0x571164 0x569dba 0x50bca0 0x56cc1f 0x569dba 0x50bca0 0x56cc1f 0x569dba 0x6902a7 0x6023c4 0x5c6730 0x56bacd 0x501488 0x56d4d6 0x501488 0x56d4d6 0x501488 0x505166 0x56bbfa 0x5f6cd6 0x56bacd 0x5f6cd6\n",
      "Epoch 1:   8%|█████████████▎                                                                                                                                                        | 7/87 [01:07<11:01,  8.27s/it]"
     ]
    },
    {
     "name": "stdout",
     "output_type": "stream",
     "text": [
      "{'acc_mean_pos': array(1.75, dtype=float32), 'acc_top1': array(0.5, dtype=float32), 'acc_top5': array(1., dtype=float32), 'loss': array(1.3195832, dtype=float32)}\n"
     ]
    },
    {
     "name": "stderr",
     "output_type": "stream",
     "text": [
      "tcmalloc: large alloc 5538316288 bytes == 0x82e3a000 @  0x7fcd19668680 0x7fcd19689824 0x7fcd19689b8a 0x7fcbca70ea8c 0x7fcbc5e8ab35 0x7fcbc5e8eacd 0x7fcbc5c0653f 0x7fcbc5c0827d 0x5f74f6 0x571164 0x569dba 0x50bca0 0x56cc1f 0x569dba 0x50bca0 0x56cc1f 0x569dba 0x6902a7 0x6023c4 0x5c6730 0x56bacd 0x501488 0x56d4d6 0x501488 0x56d4d6 0x501488 0x505166 0x56bbfa 0x5f6cd6 0x56bacd 0x5f6cd6\n",
      "Epoch 1:   9%|███████████████▎                                                                                                                                                      | 8/87 [01:15<10:30,  7.98s/it]"
     ]
    },
    {
     "name": "stdout",
     "output_type": "stream",
     "text": [
      "{'acc_mean_pos': array(2., dtype=float32), 'acc_top1': array(0.25, dtype=float32), 'acc_top5': array(1., dtype=float32), 'loss': array(1.4165246, dtype=float32)}\n"
     ]
    },
    {
     "name": "stderr",
     "output_type": "stream",
     "text": [
      "tcmalloc: large alloc 5538316288 bytes == 0x82e3a000 @  0x7fcd19668680 0x7fcd19689824 0x7fcd19689b8a 0x7fcbca70ea8c 0x7fcbc5e8ab35 0x7fcbc5e8eacd 0x7fcbc5c0653f 0x7fcbc5c0827d 0x5f74f6 0x571164 0x569dba 0x50bca0 0x56cc1f 0x569dba 0x50bca0 0x56cc1f 0x569dba 0x6902a7 0x6023c4 0x5c6730 0x56bacd 0x501488 0x56d4d6 0x501488 0x56d4d6 0x501488 0x505166 0x56bbfa 0x5f6cd6 0x56bacd 0x5f6cd6\n",
      "Epoch 1:  10%|█████████████████▏                                                                                                                                                    | 9/87 [01:22<10:12,  7.85s/it]"
     ]
    },
    {
     "name": "stdout",
     "output_type": "stream",
     "text": [
      "{'acc_mean_pos': array(1.75, dtype=float32), 'acc_top1': array(0.5, dtype=float32), 'acc_top5': array(1., dtype=float32), 'loss': array(1.1524405, dtype=float32)}\n"
     ]
    },
    {
     "name": "stderr",
     "output_type": "stream",
     "text": [
      "Epoch 1:  11%|██████████████████▉                                                                                                                                                  | 10/87 [01:30<10:00,  7.80s/it]"
     ]
    },
    {
     "name": "stdout",
     "output_type": "stream",
     "text": [
      "{'acc_mean_pos': array(2., dtype=float32), 'acc_top1': array(0.25, dtype=float32), 'acc_top5': array(1., dtype=float32), 'loss': array(0.99006104, dtype=float32)}\n"
     ]
    },
    {
     "name": "stderr",
     "output_type": "stream",
     "text": [
      "Epoch 1:  13%|████████████████████▊                                                                                                                                                | 11/87 [01:37<09:43,  7.68s/it]"
     ]
    },
    {
     "name": "stdout",
     "output_type": "stream",
     "text": [
      "{'acc_mean_pos': array(1.75, dtype=float32), 'acc_top1': array(0.5, dtype=float32), 'acc_top5': array(1., dtype=float32), 'loss': array(0.899086, dtype=float32)}\n"
     ]
    },
    {
     "name": "stderr",
     "output_type": "stream",
     "text": [
      "Epoch 1:  14%|██████████████████████▊                                                                                                                                              | 12/87 [01:45<09:32,  7.63s/it]"
     ]
    },
    {
     "name": "stdout",
     "output_type": "stream",
     "text": [
      "{'acc_mean_pos': array(2.25, dtype=float32), 'acc_top1': array(0.25, dtype=float32), 'acc_top5': array(1., dtype=float32), 'loss': array(1.5436885, dtype=float32)}\n"
     ]
    },
    {
     "name": "stderr",
     "output_type": "stream",
     "text": [
      "Epoch 1:  15%|████████████████████████▋                                                                                                                                            | 13/87 [01:52<09:19,  7.56s/it]"
     ]
    },
    {
     "name": "stdout",
     "output_type": "stream",
     "text": [
      "{'acc_mean_pos': array(1.75, dtype=float32), 'acc_top1': array(0.5, dtype=float32), 'acc_top5': array(1., dtype=float32), 'loss': array(1.6181979, dtype=float32)}\n"
     ]
    },
    {
     "name": "stderr",
     "output_type": "stream",
     "text": [
      "Epoch 1:  16%|██████████████████████████▌                                                                                                                                          | 14/87 [02:00<09:09,  7.52s/it]"
     ]
    },
    {
     "name": "stdout",
     "output_type": "stream",
     "text": [
      "{'acc_mean_pos': array(2., dtype=float32), 'acc_top1': array(0.25, dtype=float32), 'acc_top5': array(1., dtype=float32), 'loss': array(1.4416885, dtype=float32)}\n"
     ]
    },
    {
     "name": "stderr",
     "output_type": "stream",
     "text": [
      "Epoch 1:  17%|████████████████████████████▍                                                                                                                                        | 15/87 [02:07<09:01,  7.52s/it]"
     ]
    },
    {
     "name": "stdout",
     "output_type": "stream",
     "text": [
      "{'acc_mean_pos': array(1.25, dtype=float32), 'acc_top1': array(0.75, dtype=float32), 'acc_top5': array(1., dtype=float32), 'loss': array(0.60070944, dtype=float32)}\n"
     ]
    },
    {
     "name": "stderr",
     "output_type": "stream",
     "text": [
      "Epoch 1:  18%|██████████████████████████████▎                                                                                                                                      | 16/87 [02:14<08:50,  7.47s/it]"
     ]
    },
    {
     "name": "stdout",
     "output_type": "stream",
     "text": [
      "{'acc_mean_pos': array(1.75, dtype=float32), 'acc_top1': array(0.5, dtype=float32), 'acc_top5': array(1., dtype=float32), 'loss': array(1.1379066, dtype=float32)}\n"
     ]
    },
    {
     "name": "stderr",
     "output_type": "stream",
     "text": [
      "Epoch 1:  20%|████████████████████████████████▏                                                                                                                                    | 17/87 [02:22<08:42,  7.47s/it]"
     ]
    },
    {
     "name": "stdout",
     "output_type": "stream",
     "text": [
      "{'acc_mean_pos': array(2., dtype=float32), 'acc_top1': array(0.25, dtype=float32), 'acc_top5': array(1., dtype=float32), 'loss': array(1.3539827, dtype=float32)}\n"
     ]
    },
    {
     "name": "stderr",
     "output_type": "stream",
     "text": [
      "Epoch 1:  21%|██████████████████████████████████▏                                                                                                                                  | 18/87 [02:29<08:33,  7.44s/it]"
     ]
    },
    {
     "name": "stdout",
     "output_type": "stream",
     "text": [
      "{'acc_mean_pos': array(2.5, dtype=float32), 'acc_top1': array(0.25, dtype=float32), 'acc_top5': array(1., dtype=float32), 'loss': array(1.3273382, dtype=float32)}\n"
     ]
    },
    {
     "name": "stderr",
     "output_type": "stream",
     "text": [
      "Epoch 1:  22%|████████████████████████████████████                                                                                                                                 | 19/87 [02:37<08:25,  7.44s/it]"
     ]
    },
    {
     "name": "stdout",
     "output_type": "stream",
     "text": [
      "{'acc_mean_pos': array(1.75, dtype=float32), 'acc_top1': array(0.25, dtype=float32), 'acc_top5': array(1., dtype=float32), 'loss': array(1.42888, dtype=float32)}\n"
     ]
    },
    {
     "name": "stderr",
     "output_type": "stream",
     "text": [
      "Epoch 1:  23%|█████████████████████████████████████▉                                                                                                                               | 20/87 [02:44<08:19,  7.45s/it]"
     ]
    },
    {
     "name": "stdout",
     "output_type": "stream",
     "text": [
      "{'acc_mean_pos': array(1.25, dtype=float32), 'acc_top1': array(0.75, dtype=float32), 'acc_top5': array(1., dtype=float32), 'loss': array(0.8209779, dtype=float32)}\n"
     ]
    },
    {
     "name": "stderr",
     "output_type": "stream",
     "text": [
      "Epoch 1:  24%|███████████████████████████████████████▊                                                                                                                             | 21/87 [02:52<08:11,  7.45s/it]"
     ]
    },
    {
     "name": "stdout",
     "output_type": "stream",
     "text": [
      "{'acc_mean_pos': array(1.75, dtype=float32), 'acc_top1': array(0.5, dtype=float32), 'acc_top5': array(1., dtype=float32), 'loss': array(1.1168487, dtype=float32)}\n"
     ]
    },
    {
     "name": "stderr",
     "output_type": "stream",
     "text": [
      "Epoch 1:  25%|█████████████████████████████████████████▋                                                                                                                           | 22/87 [02:59<08:04,  7.45s/it]"
     ]
    },
    {
     "name": "stdout",
     "output_type": "stream",
     "text": [
      "{'acc_mean_pos': array(2., dtype=float32), 'acc_top1': array(0.25, dtype=float32), 'acc_top5': array(1., dtype=float32), 'loss': array(1.2187393, dtype=float32)}\n"
     ]
    },
    {
     "name": "stderr",
     "output_type": "stream",
     "text": [
      "Epoch 1:  26%|███████████████████████████████████████████▌                                                                                                                         | 23/87 [03:06<07:54,  7.41s/it]"
     ]
    },
    {
     "name": "stdout",
     "output_type": "stream",
     "text": [
      "{'acc_mean_pos': array(2., dtype=float32), 'acc_top1': array(0.25, dtype=float32), 'acc_top5': array(1., dtype=float32), 'loss': array(1.2106903, dtype=float32)}\n"
     ]
    },
    {
     "name": "stderr",
     "output_type": "stream",
     "text": [
      "Epoch 1:  28%|█████████████████████████████████████████████▌                                                                                                                       | 24/87 [03:14<07:45,  7.39s/it]"
     ]
    },
    {
     "name": "stdout",
     "output_type": "stream",
     "text": [
      "{'acc_mean_pos': array(2.5, dtype=float32), 'acc_top1': array(0., dtype=float32), 'acc_top5': array(1., dtype=float32), 'loss': array(1.7335165, dtype=float32)}\n"
     ]
    },
    {
     "name": "stderr",
     "output_type": "stream",
     "text": [
      "Epoch 1:  29%|███████████████████████████████████████████████▍                                                                                                                     | 25/87 [03:21<07:39,  7.41s/it]"
     ]
    },
    {
     "name": "stdout",
     "output_type": "stream",
     "text": [
      "{'acc_mean_pos': array(1.25, dtype=float32), 'acc_top1': array(0.75, dtype=float32), 'acc_top5': array(1., dtype=float32), 'loss': array(0.9045358, dtype=float32)}\n"
     ]
    },
    {
     "name": "stderr",
     "output_type": "stream",
     "text": [
      "Epoch 1:  30%|█████████████████████████████████████████████████▎                                                                                                                   | 26/87 [03:28<07:28,  7.36s/it]"
     ]
    },
    {
     "name": "stdout",
     "output_type": "stream",
     "text": [
      "{'acc_mean_pos': array(2.25, dtype=float32), 'acc_top1': array(0.25, dtype=float32), 'acc_top5': array(1., dtype=float32), 'loss': array(1.2032773, dtype=float32)}\n"
     ]
    },
    {
     "name": "stderr",
     "output_type": "stream",
     "text": [
      "Epoch 1:  31%|███████████████████████████████████████████████████▏                                                                                                                 | 27/87 [03:36<07:22,  7.37s/it]"
     ]
    },
    {
     "name": "stdout",
     "output_type": "stream",
     "text": [
      "{'acc_mean_pos': array(2., dtype=float32), 'acc_top1': array(0.25, dtype=float32), 'acc_top5': array(1., dtype=float32), 'loss': array(1.1785383, dtype=float32)}\n"
     ]
    },
    {
     "name": "stderr",
     "output_type": "stream",
     "text": [
      "Epoch 1:  32%|█████████████████████████████████████████████████████                                                                                                                | 28/87 [03:43<07:14,  7.36s/it]"
     ]
    },
    {
     "name": "stdout",
     "output_type": "stream",
     "text": [
      "{'acc_mean_pos': array(2., dtype=float32), 'acc_top1': array(0.5, dtype=float32), 'acc_top5': array(1., dtype=float32), 'loss': array(1.0742671, dtype=float32)}\n"
     ]
    },
    {
     "name": "stderr",
     "output_type": "stream",
     "text": [
      "                                                                                                                                                                                                                   \r"
     ]
    },
    {
     "ename": "KeyboardInterrupt",
     "evalue": "",
     "output_type": "error",
     "traceback": [
      "\u001b[0;31m---------------------------------------------------------------------------\u001b[0m",
      "\u001b[0;31mKeyboardInterrupt\u001b[0m                         Traceback (most recent call last)",
      "Input \u001b[0;32mIn [5]\u001b[0m, in \u001b[0;36m<cell line: 1>\u001b[0;34m()\u001b[0m\n\u001b[0;32m----> 1\u001b[0m \u001b[43mtrainer\u001b[49m\u001b[38;5;241;43m.\u001b[39;49m\u001b[43mtrain_model\u001b[49m\u001b[43m(\u001b[49m\u001b[43mtrain_dataloader\u001b[49m\u001b[43m,\u001b[49m\u001b[43m \u001b[49m\u001b[43mtest_dataloader\u001b[49m\u001b[43m,\u001b[49m\u001b[43m \u001b[49m\u001b[43mnum_epochs\u001b[49m\u001b[38;5;241;43m=\u001b[39;49m\u001b[38;5;241;43m3\u001b[39;49m\u001b[43m)\u001b[49m\n",
      "File \u001b[0;32m~/simclr_module/trainer.py:124\u001b[0m, in \u001b[0;36mTrainerModule.train_model\u001b[0;34m(self, train_loader, test_dataloader, num_epochs)\u001b[0m\n\u001b[1;32m    122\u001b[0m best_eval \u001b[38;5;241m=\u001b[39m \u001b[38;5;241m0.0\u001b[39m\n\u001b[1;32m    123\u001b[0m \u001b[38;5;28;01mfor\u001b[39;00m epoch_idx \u001b[38;5;129;01min\u001b[39;00m \u001b[38;5;28mrange\u001b[39m(\u001b[38;5;241m1\u001b[39m, num_epochs\u001b[38;5;241m+\u001b[39m\u001b[38;5;241m1\u001b[39m):\n\u001b[0;32m--> 124\u001b[0m     \u001b[38;5;28;43mself\u001b[39;49m\u001b[38;5;241;43m.\u001b[39;49m\u001b[43mtrain_epoch\u001b[49m\u001b[43m(\u001b[49m\u001b[43mtrain_loader\u001b[49m\u001b[43m,\u001b[49m\u001b[43m \u001b[49m\u001b[43mtest_dataloader\u001b[49m\u001b[43m,\u001b[49m\u001b[43m \u001b[49m\u001b[43mepoch\u001b[49m\u001b[38;5;241;43m=\u001b[39;49m\u001b[43mepoch_idx\u001b[49m\u001b[43m)\u001b[49m\n\u001b[1;32m    125\u001b[0m \u001b[38;5;28mself\u001b[39m\u001b[38;5;241m.\u001b[39mstate \u001b[38;5;241m=\u001b[39m jax_utils\u001b[38;5;241m.\u001b[39munreplicate(\u001b[38;5;28mself\u001b[39m\u001b[38;5;241m.\u001b[39mstate)\n",
      "File \u001b[0;32m~/simclr_module/trainer.py:136\u001b[0m, in \u001b[0;36mTrainerModule.train_epoch\u001b[0;34m(self, train_dataloader, test_dataloader, epoch)\u001b[0m\n\u001b[1;32m    133\u001b[0m train_batch \u001b[38;5;241m=\u001b[39m common_utils\u001b[38;5;241m.\u001b[39mshard(jax\u001b[38;5;241m.\u001b[39mtree_util\u001b[38;5;241m.\u001b[39mtree_map(np\u001b[38;5;241m.\u001b[39masarray, \u001b[38;5;28mnext\u001b[39m(train_iter)))\n\u001b[1;32m    134\u001b[0m test_batch \u001b[38;5;241m=\u001b[39m common_utils\u001b[38;5;241m.\u001b[39mshard(jax\u001b[38;5;241m.\u001b[39mtree_util\u001b[38;5;241m.\u001b[39mtree_map(np\u001b[38;5;241m.\u001b[39masarray, \u001b[38;5;28mnext\u001b[39m(test_iter)))\n\u001b[0;32m--> 136\u001b[0m \u001b[38;5;28mself\u001b[39m\u001b[38;5;241m.\u001b[39mstate, _ \u001b[38;5;241m=\u001b[39m \u001b[38;5;28;43mself\u001b[39;49m\u001b[38;5;241;43m.\u001b[39;49m\u001b[43mtrain_step\u001b[49m\u001b[43m(\u001b[49m\u001b[38;5;28;43mself\u001b[39;49m\u001b[38;5;241;43m.\u001b[39;49m\u001b[43mstate\u001b[49m\u001b[43m,\u001b[49m\u001b[43m \u001b[49m\u001b[43mtrain_batch\u001b[49m\u001b[43m[\u001b[49m\u001b[38;5;241;43m0\u001b[39;49m\u001b[43m]\u001b[49m\u001b[43m)\u001b[49m\n\u001b[1;32m    137\u001b[0m batch_metrics \u001b[38;5;241m=\u001b[39m \u001b[38;5;28mself\u001b[39m\u001b[38;5;241m.\u001b[39meval_step(\u001b[38;5;28mself\u001b[39m\u001b[38;5;241m.\u001b[39mstate, test_batch[\u001b[38;5;241m0\u001b[39m]) \u001b[38;5;66;03m# overwrite batch_metrics\u001b[39;00m\n\u001b[1;32m    138\u001b[0m batch_metrics \u001b[38;5;241m=\u001b[39m {k:jax\u001b[38;5;241m.\u001b[39mdevice_get(v\u001b[38;5;241m.\u001b[39mmean()) \u001b[38;5;28;01mfor\u001b[39;00m k,v \u001b[38;5;129;01min\u001b[39;00m batch_metrics\u001b[38;5;241m.\u001b[39mitems()}\n",
      "File \u001b[0;32m/usr/local/lib/python3.8/dist-packages/flax/core/frozen_dict.py:159\u001b[0m, in \u001b[0;36mFrozenDict.tree_unflatten\u001b[0;34m(cls, _, data)\u001b[0m\n\u001b[1;32m    152\u001b[0m   \u001b[38;5;124;03m\"\"\"Flattens this FrozenDict.\u001b[39;00m\n\u001b[1;32m    153\u001b[0m \n\u001b[1;32m    154\u001b[0m \u001b[38;5;124;03m  Returns:\u001b[39;00m\n\u001b[1;32m    155\u001b[0m \u001b[38;5;124;03m    A flattened version of this FrozenDict instance.\u001b[39;00m\n\u001b[1;32m    156\u001b[0m \u001b[38;5;124;03m  \"\"\"\u001b[39;00m\n\u001b[1;32m    157\u001b[0m   \u001b[38;5;28;01mreturn\u001b[39;00m (\u001b[38;5;28mself\u001b[39m\u001b[38;5;241m.\u001b[39m_dict,), ()\n\u001b[0;32m--> 159\u001b[0m \u001b[38;5;129m@classmethod\u001b[39m\n\u001b[1;32m    160\u001b[0m \u001b[38;5;28;01mdef\u001b[39;00m \u001b[38;5;21mtree_unflatten\u001b[39m(\u001b[38;5;28mcls\u001b[39m, _, data):\n\u001b[1;32m    161\u001b[0m   \u001b[38;5;66;03m# data is already deep copied due to tree map mechanism\u001b[39;00m\n\u001b[1;32m    162\u001b[0m   \u001b[38;5;66;03m# we can skip the deep copy in the constructor\u001b[39;00m\n\u001b[1;32m    163\u001b[0m   \u001b[38;5;28;01mreturn\u001b[39;00m \u001b[38;5;28mcls\u001b[39m(\u001b[38;5;241m*\u001b[39mdata, __unsafe_skip_copy__\u001b[38;5;241m=\u001b[39m\u001b[38;5;28;01mTrue\u001b[39;00m)\n",
      "\u001b[0;31mKeyboardInterrupt\u001b[0m: "
     ]
    }
   ],
   "source": [
    "trainer.train_model(train_dataloader, test_dataloader, num_epochs=3)"
   ]
  },
  {
   "cell_type": "code",
   "execution_count": null,
   "id": "2724f2d0-6f46-4d4a-93ff-cd536cab14b5",
   "metadata": {},
   "outputs": [],
   "source": []
  }
 ],
 "metadata": {
  "kernelspec": {
   "display_name": "Python 3 (ipykernel)",
   "language": "python",
   "name": "python3"
  },
  "language_info": {
   "codemirror_mode": {
    "name": "ipython",
    "version": 3
   },
   "file_extension": ".py",
   "mimetype": "text/x-python",
   "name": "python",
   "nbconvert_exporter": "python",
   "pygments_lexer": "ipython3",
   "version": "3.8.10"
  }
 },
 "nbformat": 4,
 "nbformat_minor": 5
}
